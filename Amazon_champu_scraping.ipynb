{
 "cells": [
  {
   "cell_type": "code",
   "execution_count": 2,
   "metadata": {},
   "outputs": [],
   "source": [
    "url = 'https://www.amazon.es/hz/wishlist/ls/NDZ0XZV1BBUQ?ref_=wl_share'"
   ]
  },
  {
   "cell_type": "code",
   "execution_count": 3,
   "metadata": {},
   "outputs": [],
   "source": [
    "from bs4 import BeautifulSoup\n",
    "import requests"
   ]
  },
  {
   "cell_type": "code",
   "execution_count": 4,
   "metadata": {},
   "outputs": [],
   "source": [
    "# getting the URL content of the shampo's Amazon page, AKA my list of items\n",
    "# sacar el contenido de la URL de la página de Amazon del champú, \n",
    "# que es la lista de champus verificados por mi\n",
    "\n",
    "res = requests.get(url)\n",
    "\n",
    "soup = BeautifulSoup(res.content)"
   ]
  },
  {
   "cell_type": "code",
   "execution_count": 5,
   "metadata": {},
   "outputs": [],
   "source": [
    "# get the a-section div tag that contains all the shampoo elements\n",
    "# sacar la a-section div tag que contiene todos los elementos del champú\n",
    "\n",
    "items = soup.find_all(\"div\", {\"class\": \"a-section\"})"
   ]
  },
  {
   "cell_type": "code",
   "execution_count": 6,
   "metadata": {},
   "outputs": [],
   "source": [
    "items = soup.find(\"ul\", {\"id\": \"g-items\"})"
   ]
  },
  {
   "cell_type": "code",
   "execution_count": 7,
   "metadata": {},
   "outputs": [],
   "source": [
    "items = items.find_all('li')[1:]"
   ]
  },
  {
   "cell_type": "code",
   "execution_count": 8,
   "metadata": {},
   "outputs": [],
   "source": [
    "categorias = [\n",
    "    'Limpieza Ropa',\n",
    "    'Limpieza Superficie',\n",
    "    'Pastillas Lavavajillas',\n",
    "    'Champú',\n",
    "    'Gel',\n",
    "    'Crema',\n",
    "    'Acondicionador',\n",
    "    'Fijador',\n",
    "    'Desodorante'\n",
    "]"
   ]
  },
  {
   "cell_type": "code",
   "execution_count": 11,
   "metadata": {},
   "outputs": [
    {
     "name": "stdout",
     "output_type": "stream",
     "text": [
      "pass\n",
      "pass\n"
     ]
    }
   ],
   "source": [
    "# now let's do this to every single shampoo item in the amazon page\n",
    "# ahora para cada item en la página \n",
    "\n",
    "item_list = [] #now let's do this to every single shampoo item in the amazon page!\n",
    "\n",
    "for item in items:\n",
    "    try:\n",
    "        item_price = item.find('div', {'class': 'price-section'})\n",
    "\n",
    "        item_price_quantity = item_price.find('span', {'class': 'a-size-base'}).text.strip()\n",
    "\n",
    "        item_price_price = item.find('span', {'class': 'a-price'}).find('span').text\n",
    "\n",
    "        item_img = item.find('img')\n",
    "\n",
    "        item_img_link = item_img['src']\n",
    "\n",
    "        item_img_title = item_img['alt']\n",
    "\n",
    "        item_price = item.find('span', {'class': 'a-offscreen'}).text\n",
    "\n",
    "        item_shop = 'Amazon'\n",
    "\n",
    "        item_url_path = item.find('a')['href']\n",
    "\n",
    "        item_category = 'Champú'\n",
    "\n",
    "        item_dic = {\n",
    "            'category': item_category,\n",
    "            'product_name': item_img_title,\n",
    "            'shop': item_shop,\n",
    "            'price_unitary_ml': item_price_quantity,\n",
    "            'product_price': item_price_price,\n",
    "            # 'product_quantity': ...,\n",
    "            'picture': item_img_link,\n",
    "            'link': item_url_path,\n",
    "            # 'id': ...,\n",
    "        }\n",
    "\n",
    "        item_list.append(item_dic)\n",
    "        \n",
    "    except:\n",
    "        print('pass')"
   ]
  },
  {
   "cell_type": "code",
   "execution_count": null,
   "metadata": {},
   "outputs": [],
   "source": []
  },
  {
   "cell_type": "code",
   "execution_count": null,
   "metadata": {},
   "outputs": [],
   "source": []
  },
  {
   "cell_type": "code",
   "execution_count": null,
   "metadata": {},
   "outputs": [],
   "source": []
  }
 ],
 "metadata": {
  "kernelspec": {
   "display_name": "base",
   "language": "python",
   "name": "python3"
  },
  "language_info": {
   "codemirror_mode": {
    "name": "ipython",
    "version": 3
   },
   "file_extension": ".py",
   "mimetype": "text/x-python",
   "name": "python",
   "nbconvert_exporter": "python",
   "pygments_lexer": "ipython3",
   "version": "3.9.13"
  },
  "orig_nbformat": 4
 },
 "nbformat": 4,
 "nbformat_minor": 2
}
