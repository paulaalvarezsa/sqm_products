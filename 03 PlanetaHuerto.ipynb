{
 "cells": [
  {
   "cell_type": "code",
   "execution_count": 1,
   "id": "8a083a24-a049-4d7f-82de-a8061428bea6",
   "metadata": {},
   "outputs": [],
   "source": [
    "url1 = 'https://www.planetahuerto.es/buscador?q=Champu%20sin%20fragancia'"
   ]
  },
  {
   "cell_type": "code",
   "execution_count": 3,
   "id": "ff065c9d-45f2-40d5-9c25-2ae7afc4175e",
   "metadata": {},
   "outputs": [],
   "source": [
    "import requests\n",
    "\n",
    "res1 = requests.get(url1)"
   ]
  },
  {
   "cell_type": "code",
   "execution_count": 4,
   "id": "c0d8aad0-cb39-4b23-8f35-14bc4ce668e9",
   "metadata": {},
   "outputs": [],
   "source": [
    "from bs4 import BeautifulSoup\n",
    "\n",
    "soup = BeautifulSoup(res1.content) "
   ]
  },
  {
   "cell_type": "code",
   "execution_count": 64,
   "id": "35ce421d-3aa5-4c6c-9b1e-ee12527efbeb",
   "metadata": {},
   "outputs": [],
   "source": [
    "items = soup.find(\"div\", {\"class\": \"flex flex-row flex-wrap w-full\"})"
   ]
  },
  {
   "cell_type": "code",
   "execution_count": 68,
   "id": "c417b963-0c2b-4a8c-90d5-1f944f252862",
   "metadata": {},
   "outputs": [
    {
     "data": {
      "text/plain": [
       "<article class=\"w-1/2 lg:mb-3 lg:px-1 sm:w-1/3 md:w-1/4 lg:w-1/3 xl:w-1/4 2xl:w-1/6\" data-v-41e89031=\"\" id=\"product-thumb-192582-search___es\"><!-- --> <div class=\"relative pt-5 overflow-hidden transition duration-300 bg-white cursor-pointer group hover:border-gray-300 lg:border lg:rounded-lg lg:border-gray-200 lg:pt-4 hover:shadow-lg p-1 lg:p-4\" data-v-2b717841=\"\" data-v-41e89031=\"\"><div data-v-2b717841=\"\"><div class=\"absolute z-10 flex px-1 py-1 top-1 left-1\" data-v-2b717841=\"\"><span class=\"px-1 py-1 text-sm font-bold text-white bg-red-900 rounded-md w-fit\" data-v-2b717841=\"\" style=\"display:;\">\n",
       "        -18%\n",
       "      </span></div> <div class=\"absolute top-0 right-0 pb-2\" data-v-2b717841=\"\"><div class=\"relative flex w-full z-10 p-4\" data-v-2b717841=\"\"><i class=\"flex items-center w-full h-full group\"><svg class=\"absolute left-0 right-0 mx-auto cursor-pointer icon sprite-fi w-6 h-6 stroke-current text-grayph-600 fill-transparent hover:fill-current hover:text-grayph-600\" xmlns=\"http://www.w3.org/2000/svg\"><use href=\"/_nuxt/1fe56049c9283574fdf36fe8acd6db15.svg#i-heart\" xlink:href=\"/_nuxt/1fe56049c9283574fdf36fe8acd6db15.svg#i-heart\"></use></svg></i> <span class=\"right-0 px-2 py-1 text-xs text-red-900 bg-red-100 rounded top-2 whitespace-nowrap hidden\" style=\"z-index:-1\">¡Añadido a favoritos!</span></div></div> <a class=\"relative h-48 group\" data-v-2b717841=\"\" href=\"/venta-champu-sin-fragancia-urtekram_192582/242057\" title=\"Champú Sin Fragancia Urtekram \"><picture class=\"relative flex flex-col overflow-hidden w-40 h-40 mx-auto mb-2 lg:w-48 lg:h-48 mix-blend-multiply\" data-alt=\"Champú Sin Fragancia Urtekram \" data-iesrc=\"https://cdn2.planetahuerto.es/estaticos/imagenes/ficha/192582/192582_1.jpg?fit=crop&amp;w=160&amp;h=160&amp;auto=format&amp;q=100, https://cdn2.planetahuerto.es/estaticos/imagenes/ficha/192582/192582_1.jpg?fit=crop&amp;w=160&amp;h=160&amp;auto=format&amp;q=100, https://cdn2.planetahuerto.es/estaticos/imagenes/ficha/192582/192582_1.jpg?fit=crop&amp;w=320&amp;h=320&amp;auto=format&amp;q=100 2x\" data-v-2b717841=\"\"><!-- --> <source data-v-2b717841=\"\" media=\"(min-width: 1024px)\" srcset=\"https://cdn2.planetahuerto.es/estaticos/imagenes/ficha/192582/192582_1.jpg?fit=crop&amp;w=192&amp;h=192&amp;auto=format&amp;q=100, https://cdn2.planetahuerto.es/estaticos/imagenes/ficha/192582/192582_1.jpg?fit=crop&amp;w=384&amp;h=384&amp;auto=format&amp;q=100 2x\"> </source></picture> <h3 class=\"h-24 pt-6 font-bold text-left lg:pt-8 overflow -hidden text-md group-focus:underline clamp-product-title\" data-v-2b717841=\"\">\n",
       "        Champú Sin Fragancia Urtekram \n",
       "      </h3></a> <div class=\"absolute flex items-center gap-x-2 flex-nowrap text-xxs lg:text-xs min-h-8 top-44 lg:top-52\" data-v-2b717841=\"\"><svg class=\"p-1 bg-white border rounded-md w-7 h-7 left-0 icon sprite-icons hidden\" data-v-2b717841=\"\" style=\"display:none;\" xmlns=\"http://www.w3.org/2000/svg\"><use href=\"/_nuxt/36ee3fd4925401cbee40938c1279ad99.svg#i-\" xlink:href=\"/_nuxt/36ee3fd4925401cbee40938c1279ad99.svg#i-\"></use></svg> <span class=\"px-2 py-1 my-1 text-xs font-bold text-black font-oswald truncate rounded-md w-fit uppercase bg-yellow-500\" data-v-2b717841=\"\">\n",
       "        PH Seleccion\n",
       "      </span> <span class=\"px-1 py-1 space-x-1 text-xs font-bold text-center text-white align-top bg-green-500 rounded-md whitespace-nowrap md:text-xs md:px-2 h-1/2\" data-v-2b717841=\"\">\n",
       "        En stock\n",
       "      </span></div> <div class=\"w-full px-1 mt-2 text-gray-900\" data-v-2b717841=\"\"><div class=\"flex flex-wrap items-center h-6 mb-6 space-y-2\" data-v-2b717841=\"\"><div class=\"flex items-center\" data-v-2b717841=\"\"><div class=\"relative w-20 h-5 pointer-events-none\" data-v-2b717841=\"\"><div class=\"absolute top-0 left-0 flex h-full\"><div><svg class=\"w-full h-full mr-1 text-gray-500 stroke-current icon sprite-fi\" fill=\"#cbcbcb\" xmlns=\"http://www.w3.org/2000/svg\"><use href=\"/_nuxt/1fe56049c9283574fdf36fe8acd6db15.svg#i-star\" xlink:href=\"/_nuxt/1fe56049c9283574fdf36fe8acd6db15.svg#i-star\"></use></svg></div><div><svg class=\"w-full h-full mr-1 text-gray-500 stroke-current icon sprite-fi\" fill=\"#cbcbcb\" xmlns=\"http://www.w3.org/2000/svg\"><use href=\"/_nuxt/1fe56049c9283574fdf36fe8acd6db15.svg#i-star\" xlink:href=\"/_nuxt/1fe56049c9283574fdf36fe8acd6db15.svg#i-star\"></use></svg></div><div><svg class=\"w-full h-full mr-1 text-gray-500 stroke-current icon sprite-fi\" fill=\"#cbcbcb\" xmlns=\"http://www.w3.org/2000/svg\"><use href=\"/_nuxt/1fe56049c9283574fdf36fe8acd6db15.svg#i-star\" xlink:href=\"/_nuxt/1fe56049c9283574fdf36fe8acd6db15.svg#i-star\"></use></svg></div><div><svg class=\"w-full h-full mr-1 text-gray-500 stroke-current icon sprite-fi\" fill=\"#cbcbcb\" xmlns=\"http://www.w3.org/2000/svg\"><use href=\"/_nuxt/1fe56049c9283574fdf36fe8acd6db15.svg#i-star\" xlink:href=\"/_nuxt/1fe56049c9283574fdf36fe8acd6db15.svg#i-star\"></use></svg></div><div><svg class=\"w-full h-full mr-1 text-gray-500 stroke-current icon sprite-fi\" fill=\"#cbcbcb\" xmlns=\"http://www.w3.org/2000/svg\"><use href=\"/_nuxt/1fe56049c9283574fdf36fe8acd6db15.svg#i-star\" xlink:href=\"/_nuxt/1fe56049c9283574fdf36fe8acd6db15.svg#i-star\"></use></svg></div> <div class=\"absolute top-0 left-0 h-full\" style=\"width:0%;overflow:hidden;\"><div class=\"flex h-full\" style=\"width:0;\"><div><svg class=\"w-full h-full mr-1 text-green-500 fill-current icon sprite-fi\" stroke=\"#3D9266\" xmlns=\"http://www.w3.org/2000/svg\"><use href=\"/_nuxt/1fe56049c9283574fdf36fe8acd6db15.svg#i-star\" xlink:href=\"/_nuxt/1fe56049c9283574fdf36fe8acd6db15.svg#i-star\"></use></svg></div><div><svg class=\"w-full h-full mr-1 text-green-500 fill-current icon sprite-fi\" stroke=\"#3D9266\" xmlns=\"http://www.w3.org/2000/svg\"><use href=\"/_nuxt/1fe56049c9283574fdf36fe8acd6db15.svg#i-star\" xlink:href=\"/_nuxt/1fe56049c9283574fdf36fe8acd6db15.svg#i-star\"></use></svg></div><div><svg class=\"w-full h-full mr-1 text-green-500 fill-current icon sprite-fi\" stroke=\"#3D9266\" xmlns=\"http://www.w3.org/2000/svg\"><use href=\"/_nuxt/1fe56049c9283574fdf36fe8acd6db15.svg#i-star\" xlink:href=\"/_nuxt/1fe56049c9283574fdf36fe8acd6db15.svg#i-star\"></use></svg></div><div><svg class=\"w-full h-full mr-1 text-green-500 fill-current icon sprite-fi\" stroke=\"#3D9266\" xmlns=\"http://www.w3.org/2000/svg\"><use href=\"/_nuxt/1fe56049c9283574fdf36fe8acd6db15.svg#i-star\" xlink:href=\"/_nuxt/1fe56049c9283574fdf36fe8acd6db15.svg#i-star\"></use></svg></div><div><svg class=\"w-full h-full mr-1 text-green-500 fill-current icon sprite-fi\" stroke=\"#3D9266\" xmlns=\"http://www.w3.org/2000/svg\"><use href=\"/_nuxt/1fe56049c9283574fdf36fe8acd6db15.svg#i-star\" xlink:href=\"/_nuxt/1fe56049c9283574fdf36fe8acd6db15.svg#i-star\"></use></svg></div></div></div></div></div> <span class=\"ml-2 text-xs text-gray-500 align-top md:px-1 sm:text-sm\" data-v-2b717841=\"\">(3)</span></div> <div class=\"flex items-center justify-between w-full text-xs font-bold text-gray-500\" data-v-2b717841=\"\"><!-- --></div></div> <div class=\"whitespace-nowrap\" data-v-2b717841=\"\"><div class=\"w-full text-gray-900\" data-v-2b717841=\"\"><div class=\"flex flex-col justify-end h-16 overflow-hidden\" data-v-2b717841=\"\"><!-- --> <div class=\"flex items-center flex-nowrap\" data-v-2b717841=\"\"><div class=\"flex items-end font-bold text-black flex-nowrap\" data-v-2b717841=\"\"><span class=\"text-2xl\">\n",
       "    7\n",
       "  </span> <div class=\"mb-1 ml-0.5\"><span>,33 €</span></div></div> <span class=\"mx-1 text-base font-bold\" data-v-2b717841=\"\">-</span> <div class=\"flex items-end font-bold text-black flex-nowrap\" data-v-2b717841=\"\"><span class=\"text-2xl\">\n",
       "    13\n",
       "  </span> <div class=\"mb-1 ml-0.5\"><span>,62 €</span></div></div></div></div></div></div></div> <div class=\"flex items-center h-6 mb-2 text-gray-700\" data-v-2b717841=\"\"><div class=\"w-full text-xs text-center truncate sm:text-left\" data-v-2b717841=\"\"><span data-v-2b717841=\"\">Entrega no disponible</span></div></div></div> <div data-v-2b717841=\"\"><div data-v-2b717841=\"\"><!-- --></div> <div data-v-2b717841=\"\"><button class=\"inline-flex items-center justify-center select-none w-full p-2 font-bold text-white border-2 rounded shadow-none bg-navy-900 border-navy-900 focus:outline-blue rounded-md transition duration-150 ease-in-out cursor-pointer\" data-v-2b717841=\"\" type=\"custom\"> <span class=\"block truncate\" data-v-2b717841=\"\">Ver opciones</span> <!-- --> </button></div></div></div></article>"
      ]
     },
     "execution_count": 68,
     "metadata": {},
     "output_type": "execute_result"
    }
   ],
   "source": [
    "items.find(\"article\",{''\"class\":\"w-1/2 lg:mb-3 lg:px-1 sm:w-1/3 md:w-1/4 lg:w-1/3 xl:w-1/4 2xl:w-1/6\"''})"
   ]
  },
  {
   "cell_type": "code",
   "execution_count": null,
   "id": "a2756dab-75a1-4078-835a-3d36fd0054f5",
   "metadata": {},
   "outputs": [],
   "source": [
    "w-1/2 lg:mb-3 lg:px-1 sm:w-1/3 md:w-1/4 lg:w-1/3 xl:w-1/4 2xl:w-1/6"
   ]
  },
  {
   "cell_type": "code",
   "execution_count": null,
   "id": "a5ab1ae7-9421-4147-85a3-3f2671ae9862",
   "metadata": {},
   "outputs": [],
   "source": []
  },
  {
   "cell_type": "code",
   "execution_count": 2,
   "id": "d2a83a36-5958-4517-b44b-35b3d75006b7",
   "metadata": {},
   "outputs": [],
   "source": [
    "url2 = 'https://www.planetahuerto.es/buscador?q=Champu%20sin%20perfume'"
   ]
  },
  {
   "cell_type": "code",
   "execution_count": null,
   "id": "e9ecce16-9d84-4bd1-9b90-79802c5f1f72",
   "metadata": {},
   "outputs": [],
   "source": []
  },
  {
   "cell_type": "code",
   "execution_count": null,
   "id": "e538b657-11f6-4090-be66-c80c2bb92e9c",
   "metadata": {},
   "outputs": [],
   "source": []
  },
  {
   "cell_type": "code",
   "execution_count": null,
   "id": "275f3a09-a022-48ed-acc4-c545dee3fcae",
   "metadata": {},
   "outputs": [],
   "source": []
  },
  {
   "cell_type": "code",
   "execution_count": null,
   "id": "e711c807-708e-43b2-ae8c-654b00adf97d",
   "metadata": {},
   "outputs": [],
   "source": []
  }
 ],
 "metadata": {
  "kernelspec": {
   "display_name": "Python 3 (ipykernel)",
   "language": "python",
   "name": "python3"
  },
  "language_info": {
   "codemirror_mode": {
    "name": "ipython",
    "version": 3
   },
   "file_extension": ".py",
   "mimetype": "text/x-python",
   "name": "python",
   "nbconvert_exporter": "python",
   "pygments_lexer": "ipython3",
   "version": "3.9.12"
  }
 },
 "nbformat": 4,
 "nbformat_minor": 5
}
