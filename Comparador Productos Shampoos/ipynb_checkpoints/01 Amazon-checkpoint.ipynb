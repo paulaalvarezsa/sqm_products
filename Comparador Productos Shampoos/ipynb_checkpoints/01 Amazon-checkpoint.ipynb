{
 "cells": [
  {
   "cell_type": "code",
   "execution_count": 1,
   "id": "1c773068-c020-47db-98e8-3a71c2cb92b2",
   "metadata": {},
   "outputs": [],
   "source": [
    "url = 'https://www.amazon.es/hz/wishlist/ls/NDZ0XZV1BBUQ?ref_=wl_share'"
   ]
  },
  {
   "cell_type": "code",
   "execution_count": 2,
   "id": "b8300b85-4d10-4c04-9402-f1568f2ed5ef",
   "metadata": {},
   "outputs": [],
   "source": [
    "from bs4 import BeautifulSoup"
   ]
  },
  {
   "cell_type": "code",
   "execution_count": 3,
   "id": "926aec53-debf-431e-ae23-a4e84d10d745",
   "metadata": {},
   "outputs": [],
   "source": [
    "import requests"
   ]
  },
  {
   "cell_type": "code",
   "execution_count": 4,
   "id": "af169a1f-539c-4499-9fa2-c1228f1a1584",
   "metadata": {},
   "outputs": [],
   "source": [
    "res = requests.get(url)"
   ]
  },
  {
   "cell_type": "code",
   "execution_count": 7,
   "id": "912ff916-785b-4b19-baa9-9ca265eeec64",
   "metadata": {},
   "outputs": [],
   "source": [
    "soup = BeautifulSoup(res.content)"
   ]
  },
  {
   "cell_type": "code",
   "execution_count": 9,
   "id": "4c6de7cd-05b8-44cc-84b0-42c7c37695c1",
   "metadata": {},
   "outputs": [],
   "source": [
    "items = soup.find_all(\"div\", {\"class\": \"a-section\"})"
   ]
  },
  {
   "cell_type": "code",
   "execution_count": 28,
   "id": "71762346-36d3-4b95-bbea-85f96524e754",
   "metadata": {},
   "outputs": [],
   "source": [
    "items = soup.find(\"ul\", {\"id\": \"g-items\"})"
   ]
  },
  {
   "cell_type": "code",
   "execution_count": 29,
   "id": "c1006c24-600f-406e-99c3-95d62a233c24",
   "metadata": {},
   "outputs": [],
   "source": [
    "items = items.find_all('li')[1:]"
   ]
  },
  {
   "cell_type": "code",
   "execution_count": 96,
   "id": "e01604da-981b-44f5-a285-6b70565aa4a9",
   "metadata": {},
   "outputs": [],
   "source": [
    "item_list = []"
   ]
  },
  {
   "cell_type": "code",
   "execution_count": 97,
   "id": "40070b03-ce29-4acf-8d2c-27f7f97ee9ff",
   "metadata": {},
   "outputs": [
    {
     "name": "stdout",
     "output_type": "stream",
     "text": [
      "pass\n",
      "pass\n"
     ]
    }
   ],
   "source": [
    "for item in items:\n",
    "    try:\n",
    "        item_price = item.find('div', {'class': 'price-section'})\n",
    "\n",
    "        item_price_quantity = item_price.find('span', {'class': 'a-size-base'}).text.strip()\n",
    "\n",
    "        item_price_price = item.find('span', {'class': 'a-price'}).find('span').text\n",
    "\n",
    "        item_img = item.find('img')\n",
    "\n",
    "        item_img_link = item_img['src']\n",
    "\n",
    "        item_img_title = item_img['alt']\n",
    "\n",
    "        item_price = item.find('span', {'class': 'a-offscreen'}).text\n",
    "\n",
    "        item_shop = 'amazon'\n",
    "\n",
    "        item_url_path = item.find('a')['href']\n",
    "\n",
    "        item_category = 'shampoo'\n",
    "\n",
    "        item_dic = {\n",
    "            'category': item_category,\n",
    "            'product_name': item_img_title,\n",
    "            'shop': item_shop,\n",
    "            'price_unitary_ml': item_price_quantity,\n",
    "            'product_price': item_price_price,\n",
    "            'product_quantity': ...,\n",
    "            'picture': item_picture,\n",
    "            'link': item_url_path,\n",
    "            'id': ...,\n",
    "        }\n",
    "\n",
    "        item_list.append(item_dic)\n",
    "    except:\n",
    "        print('pass')"
   ]
  },
  {
   "cell_type": "code",
   "execution_count": 99,
   "id": "eccb86d4-9bad-40ce-9c06-4b9e38546171",
   "metadata": {},
   "outputs": [],
   "source": [
    "import pandas as pd"
   ]
  },
  {
   "cell_type": "code",
   "execution_count": 101,
   "id": "c52970c1-5a66-4064-b697-f49a7b0b698a",
   "metadata": {},
   "outputs": [],
   "source": [
    "df_items = pd.DataFrame(item_list)"
   ]
  },
  {
   "cell_type": "code",
   "execution_count": 104,
   "id": "74afeeed-e801-485e-87dc-4d615eebb3ab",
   "metadata": {},
   "outputs": [
    {
     "data": {
      "text/plain": [
       "'https://m.media-amazon.com/images/W/IMAGERENDERING_521856-T1/images/I/31gPlkxoMqL._SS135_.jpg'"
      ]
     },
     "execution_count": 104,
     "metadata": {},
     "output_type": "execute_result"
    }
   ],
   "source": [
    "df_items.picture[0]"
   ]
  },
  {
   "cell_type": "code",
   "execution_count": 107,
   "id": "ad3af650-f69b-4979-8a57-c9054c193b91",
   "metadata": {},
   "outputs": [],
   "source": [
    "df_items.to_csv('amazon.csv', index=False)"
   ]
  }
 ],
 "metadata": {
  "kernelspec": {
   "display_name": "Python 3 (ipykernel)",
   "language": "python",
   "name": "python3"
  },
  "language_info": {
   "codemirror_mode": {
    "name": "ipython",
    "version": 3
   },
   "file_extension": ".py",
   "mimetype": "text/x-python",
   "name": "python",
   "nbconvert_exporter": "python",
   "pygments_lexer": "ipython3",
   "version": "3.10.6"
  }
 },
 "nbformat": 4,
 "nbformat_minor": 5
}
