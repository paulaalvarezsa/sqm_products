{
 "cells": [
  {
   "cell_type": "code",
   "execution_count": 8,
   "id": "1c773068-c020-47db-98e8-3a71c2cb92b2",
   "metadata": {},
   "outputs": [],
   "source": [
    "url = 'https://www.amazon.es/hz/wishlist/ls/NDZ0XZV1BBUQ?ref_=wl_share'"
   ]
  },
  {
   "cell_type": "code",
   "execution_count": 9,
   "id": "b8300b85-4d10-4c04-9402-f1568f2ed5ef",
   "metadata": {},
   "outputs": [],
   "source": [
    "from bs4 import BeautifulSoup\n",
    "import requests"
   ]
  },
  {
   "cell_type": "code",
   "execution_count": 10,
   "id": "58ed08d1-d2e6-4f08-953c-8e045e2b6f76",
   "metadata": {},
   "outputs": [],
   "source": [
    "#getting the URL content of the shampo's Amazon page\n",
    "res = requests.get(url)\n",
    "\n",
    "soup = BeautifulSoup(res.content)"
   ]
  },
  {
   "cell_type": "code",
   "execution_count": 11,
   "id": "4c6de7cd-05b8-44cc-84b0-42c7c37695c1",
   "metadata": {},
   "outputs": [],
   "source": [
    "#get the a-section div tag that contains all the shampoo elements\n",
    "items = soup.find_all(\"div\", {\"class\": \"a-section\"})"
   ]
  },
  {
   "cell_type": "markdown",
   "id": "21916260-c5d7-4487-bf9c-9889881bc5bc",
   "metadata": {},
   "source": [
    "\n",
    "![Descripción de la imagen](img1.jpg \"Leyenda de la imagen\")"
   ]
  },
  {
   "cell_type": "markdown",
   "id": "ee8ab4e7-eff8-4a07-a7c1-30746b0ba961",
   "metadata": {},
   "source": [
    "*Now.... we have the code for all these \"boxes\" where each one holds the shampoo item with it info*"
   ]
  },
  {
   "cell_type": "markdown",
   "id": "4e62a0c3-73b7-4461-b361-26f576913a08",
   "metadata": {},
   "source": [
    "*Filtering by 'ul' tag, we ensure that we will only have shampoo items*"
   ]
  },
  {
   "cell_type": "markdown",
   "id": "73dcc2b4-7847-4772-809b-f3189c95a1d5",
   "metadata": {},
   "source": [
    "*Each \"item box\" has a \"g-items\" tag, where we can acces to the current shampoo image, its price and more!*"
   ]
  },
  {
   "cell_type": "code",
   "execution_count": 14,
   "id": "71762346-36d3-4b95-bbea-85f96524e754",
   "metadata": {},
   "outputs": [],
   "source": [
    "items = soup.find(\"ul\", {\"id\": \"g-items\"})"
   ]
  },
  {
   "cell_type": "markdown",
   "id": "2c0cf40f-6e82-40ea-add5-ca6785f31f70",
   "metadata": {},
   "source": [
    "\n",
    "![Descripción de la imagen](img3.jpg \"Leyenda de la imagen\")"
   ]
  },
  {
   "cell_type": "code",
   "execution_count": 15,
   "id": "c1006c24-600f-406e-99c3-95d62a233c24",
   "metadata": {},
   "outputs": [],
   "source": [
    "items = items.find_all('li')[1:]"
   ]
  },
  {
   "cell_type": "code",
   "execution_count": 16,
   "id": "40a1d83b",
   "metadata": {},
   "outputs": [],
   "source": [
    "categorias = [\n",
    "    'Limpieza Ropa',\n",
    "    'Limpieza Superficie',\n",
    "    'Pastillas Lavavajillas',\n",
    "    'Champú',\n",
    "    'Gel',\n",
    "    'Crema',\n",
    "    'Acondicionador',\n",
    "    'Fijador',\n",
    "    'Desodorante'\n",
    "]"
   ]
  },
  {
   "cell_type": "code",
   "execution_count": 17,
   "id": "40070b03-ce29-4acf-8d2c-27f7f97ee9ff",
   "metadata": {},
   "outputs": [
    {
     "name": "stdout",
     "output_type": "stream",
     "text": [
      "pass\n",
      "pass\n"
     ]
    }
   ],
   "source": [
    "item_list = [] #now let's do this to every single shampoo item in the amazon page!\n",
    "\n",
    "for item in items:\n",
    "    try:\n",
    "        item_price = item.find('div', {'class': 'price-section'})\n",
    "\n",
    "        item_price_quantity = item_price.find('span', {'class': 'a-size-base'}).text.strip()\n",
    "\n",
    "        item_price_price = item.find('span', {'class': 'a-price'}).find('span').text\n",
    "\n",
    "        item_img = item.find('img')\n",
    "\n",
    "        item_img_link = item_img['src']\n",
    "\n",
    "        item_img_title = item_img['alt']\n",
    "\n",
    "        item_price = item.find('span', {'class': 'a-offscreen'}).text\n",
    "\n",
    "        item_shop = 'Amazon'\n",
    "\n",
    "        item_url_path = item.find('a')['href']\n",
    "\n",
    "        item_category = 'Champú'\n",
    "\n",
    "        item_dic = {\n",
    "            'category': item_category,\n",
    "            'product_name': item_img_title,\n",
    "            'shop': item_shop,\n",
    "            'price_unitary_ml': item_price_quantity,\n",
    "            'product_price': item_price_price,\n",
    "            # 'product_quantity': ...,\n",
    "            'picture': item_img_link,\n",
    "            'link': item_url_path,\n",
    "            # 'id': ...,\n",
    "        }\n",
    "\n",
    "        item_list.append(item_dic)\n",
    "        \n",
    "    except:\n",
    "        print('pass')"
   ]
  },
  {
   "cell_type": "markdown",
   "id": "0b7da393-8cee-482d-aa6e-c7fda5defa8f",
   "metadata": {},
   "source": [
    "*5 last shampoos where not captured*"
   ]
  },
  {
   "cell_type": "code",
   "execution_count": 19,
   "id": "eccb86d4-9bad-40ce-9c06-4b9e38546171",
   "metadata": {},
   "outputs": [],
   "source": [
    "import pandas as pd"
   ]
  },
  {
   "cell_type": "code",
   "execution_count": 20,
   "id": "c52970c1-5a66-4064-b697-f49a7b0b698a",
   "metadata": {},
   "outputs": [],
   "source": [
    "df_items = pd.DataFrame(item_list)"
   ]
  },
  {
   "cell_type": "code",
   "execution_count": 21,
   "id": "757f321e",
   "metadata": {},
   "outputs": [
    {
     "data": {
      "text/html": [
       "<div>\n",
       "<style scoped>\n",
       "    .dataframe tbody tr th:only-of-type {\n",
       "        vertical-align: middle;\n",
       "    }\n",
       "\n",
       "    .dataframe tbody tr th {\n",
       "        vertical-align: top;\n",
       "    }\n",
       "\n",
       "    .dataframe thead th {\n",
       "        text-align: right;\n",
       "    }\n",
       "</style>\n",
       "<table border=\"1\" class=\"dataframe\">\n",
       "  <thead>\n",
       "    <tr style=\"text-align: right;\">\n",
       "      <th></th>\n",
       "      <th>category</th>\n",
       "      <th>product_name</th>\n",
       "      <th>shop</th>\n",
       "      <th>price_unitary_ml</th>\n",
       "      <th>product_price</th>\n",
       "      <th>picture</th>\n",
       "      <th>link</th>\n",
       "    </tr>\n",
       "  </thead>\n",
       "  <tbody>\n",
       "    <tr>\n",
       "      <th>0</th>\n",
       "      <td>Champú</td>\n",
       "      <td>Naturtint Champú Seco, Ayuda a Absorber el Exc...</td>\n",
       "      <td>Amazon</td>\n",
       "      <td>(39,75 € / 100 g)</td>\n",
       "      <td>7,95 €</td>\n",
       "      <td>https://m.media-amazon.com/images/W/IMAGERENDE...</td>\n",
       "      <td>/dp/B07PKC8ZZB/?coliid=I2MEX1AG2IR23E&amp;colid=ND...</td>\n",
       "    </tr>\n",
       "    <tr>\n",
       "      <th>1</th>\n",
       "      <td>Champú</td>\n",
       "      <td>Champú ecológico sin fragancia – 8 fl oz</td>\n",
       "      <td>Amazon</td>\n",
       "      <td>(7,13 € / 100 ml)</td>\n",
       "      <td>16,90 €</td>\n",
       "      <td>https://m.media-amazon.com/images/W/IMAGERENDE...</td>\n",
       "      <td>/dp/B0019GZCYI/?coliid=I1JEU1UNZ15WHC&amp;colid=ND...</td>\n",
       "    </tr>\n",
       "    <tr>\n",
       "      <th>2</th>\n",
       "      <td>Champú</td>\n",
       "      <td>99% Natural CHAMPÚ DERMOPROTECTOR con ALOE VER...</td>\n",
       "      <td>Amazon</td>\n",
       "      <td>(17,99 € / unidad)</td>\n",
       "      <td>17,99 €</td>\n",
       "      <td>https://m.media-amazon.com/images/W/IMAGERENDE...</td>\n",
       "      <td>/dp/B07BHMNG88/?coliid=I3CJONU8OSXPMJ&amp;colid=ND...</td>\n",
       "    </tr>\n",
       "    <tr>\n",
       "      <th>3</th>\n",
       "      <td>Champú</td>\n",
       "      <td>99% Natural CHAMPÚ DERMOPROTECTOR - SIN PERFUM...</td>\n",
       "      <td>Amazon</td>\n",
       "      <td>(17,99 € / unidad)</td>\n",
       "      <td>17,99 €</td>\n",
       "      <td>https://m.media-amazon.com/images/W/IMAGERENDE...</td>\n",
       "      <td>/dp/B07YB4J3FQ/?coliid=I227KFRGBU6WJ8&amp;colid=ND...</td>\n",
       "    </tr>\n",
       "    <tr>\n",
       "      <th>4</th>\n",
       "      <td>Champú</td>\n",
       "      <td>The Soapy Goat Barra de champú de leche de cab...</td>\n",
       "      <td>Amazon</td>\n",
       "      <td>(13,06 € / 100 g)</td>\n",
       "      <td>13,06 €</td>\n",
       "      <td>https://m.media-amazon.com/images/W/IMAGERENDE...</td>\n",
       "      <td>/dp/B07V743PRM/?coliid=I3M366AA49AEBJ&amp;colid=ND...</td>\n",
       "    </tr>\n",
       "    <tr>\n",
       "      <th>5</th>\n",
       "      <td>Champú</td>\n",
       "      <td>Owl &amp; Bee - Champú sólido - Todos los tipos de...</td>\n",
       "      <td>Amazon</td>\n",
       "      <td>(10,90 € / 100 g)</td>\n",
       "      <td>6,32 €</td>\n",
       "      <td>https://m.media-amazon.com/images/W/IMAGERENDE...</td>\n",
       "      <td>/dp/B093C9W2T3/?coliid=I14HT0COI7WN7&amp;colid=NDZ...</td>\n",
       "    </tr>\n",
       "    <tr>\n",
       "      <th>6</th>\n",
       "      <td>Champú</td>\n",
       "      <td>Champú base, 1 litros, orgánico, sin SLS, SLES...</td>\n",
       "      <td>Amazon</td>\n",
       "      <td>(1,60 € / 100 ml)</td>\n",
       "      <td>15,99 €</td>\n",
       "      <td>https://m.media-amazon.com/images/W/IMAGERENDE...</td>\n",
       "      <td>/dp/B07D8X6GTK/?coliid=I281UP32J1XVER&amp;colid=ND...</td>\n",
       "    </tr>\n",
       "    <tr>\n",
       "      <th>7</th>\n",
       "      <td>Champú</td>\n",
       "      <td>99% Natural CHAMPÚ DERMOPROTECTOR - SIN PERFUM...</td>\n",
       "      <td>Amazon</td>\n",
       "      <td>(17,99 € / unidad)</td>\n",
       "      <td>17,99 €</td>\n",
       "      <td>https://m.media-amazon.com/images/W/IMAGERENDE...</td>\n",
       "      <td>/dp/B07QTZCZCW/?coliid=IRJPFXS0LRWDD&amp;colid=NDZ...</td>\n",
       "    </tr>\n",
       "    <tr>\n",
       "      <th>8</th>\n",
       "      <td>Champú</td>\n",
       "      <td>Champú /gel sin perfume Cosmo 1L Bio sin sulfa...</td>\n",
       "      <td>Amazon</td>\n",
       "      <td>(1,77 € / 100 ml)</td>\n",
       "      <td>17,69 €</td>\n",
       "      <td>https://m.media-amazon.com/images/W/IMAGERENDE...</td>\n",
       "      <td>/dp/B00F0N8MGQ/?coliid=I2PL95MNYTF24O&amp;colid=ND...</td>\n",
       "    </tr>\n",
       "    <tr>\n",
       "      <th>9</th>\n",
       "      <td>Champú</td>\n",
       "      <td>Champú sin perfume para el cuero cabelludo seco</td>\n",
       "      <td>Amazon</td>\n",
       "      <td>(1,64 € / 100 ml)</td>\n",
       "      <td>3,27 €</td>\n",
       "      <td>https://m.media-amazon.com/images/W/IMAGERENDE...</td>\n",
       "      <td>/dp/B002E20W2I/?coliid=I1QZCBRW3HVT9K&amp;colid=ND...</td>\n",
       "    </tr>\n",
       "  </tbody>\n",
       "</table>\n",
       "</div>"
      ],
      "text/plain": [
       "  category                                       product_name    shop  \\\n",
       "0   Champú  Naturtint Champú Seco, Ayuda a Absorber el Exc...  Amazon   \n",
       "1   Champú           Champú ecológico sin fragancia – 8 fl oz  Amazon   \n",
       "2   Champú  99% Natural CHAMPÚ DERMOPROTECTOR con ALOE VER...  Amazon   \n",
       "3   Champú  99% Natural CHAMPÚ DERMOPROTECTOR - SIN PERFUM...  Amazon   \n",
       "4   Champú  The Soapy Goat Barra de champú de leche de cab...  Amazon   \n",
       "5   Champú  Owl & Bee - Champú sólido - Todos los tipos de...  Amazon   \n",
       "6   Champú  Champú base, 1 litros, orgánico, sin SLS, SLES...  Amazon   \n",
       "7   Champú  99% Natural CHAMPÚ DERMOPROTECTOR - SIN PERFUM...  Amazon   \n",
       "8   Champú  Champú /gel sin perfume Cosmo 1L Bio sin sulfa...  Amazon   \n",
       "9   Champú    Champú sin perfume para el cuero cabelludo seco  Amazon   \n",
       "\n",
       "     price_unitary_ml product_price  \\\n",
       "0   (39,75 € / 100 g)        7,95 €   \n",
       "1   (7,13 € / 100 ml)       16,90 €   \n",
       "2  (17,99 € / unidad)       17,99 €   \n",
       "3  (17,99 € / unidad)       17,99 €   \n",
       "4   (13,06 € / 100 g)       13,06 €   \n",
       "5   (10,90 € / 100 g)        6,32 €   \n",
       "6   (1,60 € / 100 ml)       15,99 €   \n",
       "7  (17,99 € / unidad)       17,99 €   \n",
       "8   (1,77 € / 100 ml)       17,69 €   \n",
       "9   (1,64 € / 100 ml)        3,27 €   \n",
       "\n",
       "                                             picture  \\\n",
       "0  https://m.media-amazon.com/images/W/IMAGERENDE...   \n",
       "1  https://m.media-amazon.com/images/W/IMAGERENDE...   \n",
       "2  https://m.media-amazon.com/images/W/IMAGERENDE...   \n",
       "3  https://m.media-amazon.com/images/W/IMAGERENDE...   \n",
       "4  https://m.media-amazon.com/images/W/IMAGERENDE...   \n",
       "5  https://m.media-amazon.com/images/W/IMAGERENDE...   \n",
       "6  https://m.media-amazon.com/images/W/IMAGERENDE...   \n",
       "7  https://m.media-amazon.com/images/W/IMAGERENDE...   \n",
       "8  https://m.media-amazon.com/images/W/IMAGERENDE...   \n",
       "9  https://m.media-amazon.com/images/W/IMAGERENDE...   \n",
       "\n",
       "                                                link  \n",
       "0  /dp/B07PKC8ZZB/?coliid=I2MEX1AG2IR23E&colid=ND...  \n",
       "1  /dp/B0019GZCYI/?coliid=I1JEU1UNZ15WHC&colid=ND...  \n",
       "2  /dp/B07BHMNG88/?coliid=I3CJONU8OSXPMJ&colid=ND...  \n",
       "3  /dp/B07YB4J3FQ/?coliid=I227KFRGBU6WJ8&colid=ND...  \n",
       "4  /dp/B07V743PRM/?coliid=I3M366AA49AEBJ&colid=ND...  \n",
       "5  /dp/B093C9W2T3/?coliid=I14HT0COI7WN7&colid=NDZ...  \n",
       "6  /dp/B07D8X6GTK/?coliid=I281UP32J1XVER&colid=ND...  \n",
       "7  /dp/B07QTZCZCW/?coliid=IRJPFXS0LRWDD&colid=NDZ...  \n",
       "8  /dp/B00F0N8MGQ/?coliid=I2PL95MNYTF24O&colid=ND...  \n",
       "9  /dp/B002E20W2I/?coliid=I1QZCBRW3HVT9K&colid=ND...  "
      ]
     },
     "execution_count": 21,
     "metadata": {},
     "output_type": "execute_result"
    }
   ],
   "source": [
    "df_items"
   ]
  },
  {
   "cell_type": "code",
   "execution_count": 10,
   "id": "74afeeed-e801-485e-87dc-4d615eebb3ab",
   "metadata": {},
   "outputs": [
    {
     "data": {
      "text/plain": [
       "'https://m.media-amazon.com/images/W/IMAGERENDERING_521856-T1/images/I/31gPlkxoMqL._SS135_.jpg'"
      ]
     },
     "execution_count": 10,
     "metadata": {},
     "output_type": "execute_result"
    }
   ],
   "source": [
    "df_items.picture[0]"
   ]
  },
  {
   "cell_type": "code",
   "execution_count": 11,
   "id": "ad3af650-f69b-4979-8a57-c9054c193b91",
   "metadata": {},
   "outputs": [],
   "source": [
    "df_items.to_csv('amazon_jabon.csv', index=False)"
   ]
  },
  {
   "cell_type": "code",
   "execution_count": 12,
   "id": "4494f238-426b-42b6-95be-56d8319554de",
   "metadata": {},
   "outputs": [
    {
     "data": {
      "text/html": [
       "<style type=\"text/css\">\n",
       "</style>\n",
       "<table id=\"T_3b27c\">\n",
       "  <thead>\n",
       "    <tr>\n",
       "      <th class=\"blank level0\" >&nbsp;</th>\n",
       "      <th id=\"T_3b27c_level0_col0\" class=\"col_heading level0 col0\" >category</th>\n",
       "      <th id=\"T_3b27c_level0_col1\" class=\"col_heading level0 col1\" >product_name</th>\n",
       "      <th id=\"T_3b27c_level0_col2\" class=\"col_heading level0 col2\" >shop</th>\n",
       "      <th id=\"T_3b27c_level0_col3\" class=\"col_heading level0 col3\" >price_unitary_ml</th>\n",
       "      <th id=\"T_3b27c_level0_col4\" class=\"col_heading level0 col4\" >product_price</th>\n",
       "      <th id=\"T_3b27c_level0_col5\" class=\"col_heading level0 col5\" >product_quantity</th>\n",
       "      <th id=\"T_3b27c_level0_col6\" class=\"col_heading level0 col6\" >picture</th>\n",
       "      <th id=\"T_3b27c_level0_col7\" class=\"col_heading level0 col7\" >link</th>\n",
       "      <th id=\"T_3b27c_level0_col8\" class=\"col_heading level0 col8\" >id</th>\n",
       "    </tr>\n",
       "  </thead>\n",
       "  <tbody>\n",
       "    <tr>\n",
       "      <th id=\"T_3b27c_level0_row0\" class=\"row_heading level0 row0\" >0</th>\n",
       "      <td id=\"T_3b27c_row0_col0\" class=\"data row0 col0\" >shampoo</td>\n",
       "      <td id=\"T_3b27c_row0_col1\" class=\"data row0 col1\" >Naturtint Champu Seco Eco 20 grs</td>\n",
       "      <td id=\"T_3b27c_row0_col2\" class=\"data row0 col2\" >amazon</td>\n",
       "      <td id=\"T_3b27c_row0_col3\" class=\"data row0 col3\" >(39,75 € / 100 g)</td>\n",
       "      <td id=\"T_3b27c_row0_col4\" class=\"data row0 col4\" >7,95 €</td>\n",
       "      <td id=\"T_3b27c_row0_col5\" class=\"data row0 col5\" >Ellipsis</td>\n",
       "      <td id=\"T_3b27c_row0_col6\" class=\"data row0 col6\" >https://m.media-amazon.com/images/W/IMAGERENDERING_521856-T1/images/I/31gPlkxoMqL._SS135_.jpg</td>\n",
       "      <td id=\"T_3b27c_row0_col7\" class=\"data row0 col7\" >/dp/B07PKC8ZZB/?coliid=I2MEX1AG2IR23E&colid=NDZ0XZV1BBUQ&psc=1&ref_=lv_vv_lig_dp_it_im</td>\n",
       "      <td id=\"T_3b27c_row0_col8\" class=\"data row0 col8\" >Ellipsis</td>\n",
       "    </tr>\n",
       "    <tr>\n",
       "      <th id=\"T_3b27c_level0_row1\" class=\"row_heading level0 row1\" >1</th>\n",
       "      <td id=\"T_3b27c_row1_col0\" class=\"data row1 col0\" >shampoo</td>\n",
       "      <td id=\"T_3b27c_row1_col1\" class=\"data row1 col1\" >Champú ecológico sin fragancia – 8 fl oz</td>\n",
       "      <td id=\"T_3b27c_row1_col2\" class=\"data row1 col2\" >amazon</td>\n",
       "      <td id=\"T_3b27c_row1_col3\" class=\"data row1 col3\" >(7,13 € / 100 ml)</td>\n",
       "      <td id=\"T_3b27c_row1_col4\" class=\"data row1 col4\" >16,90 €</td>\n",
       "      <td id=\"T_3b27c_row1_col5\" class=\"data row1 col5\" >Ellipsis</td>\n",
       "      <td id=\"T_3b27c_row1_col6\" class=\"data row1 col6\" >https://m.media-amazon.com/images/W/IMAGERENDERING_521856-T1/images/I/31LRufBelXL._SS135_.jpg</td>\n",
       "      <td id=\"T_3b27c_row1_col7\" class=\"data row1 col7\" >/dp/B0019GZCYI/?coliid=I1JEU1UNZ15WHC&colid=NDZ0XZV1BBUQ&psc=1&ref_=lv_vv_lig_dp_it_im</td>\n",
       "      <td id=\"T_3b27c_row1_col8\" class=\"data row1 col8\" >Ellipsis</td>\n",
       "    </tr>\n",
       "    <tr>\n",
       "      <th id=\"T_3b27c_level0_row2\" class=\"row_heading level0 row2\" >2</th>\n",
       "      <td id=\"T_3b27c_row2_col0\" class=\"data row2 col0\" >shampoo</td>\n",
       "      <td id=\"T_3b27c_row2_col1\" class=\"data row2 col1\" >99% Natural CHAMPÚ DERMOPROTECTOR con ALOE VERA - SIN PERFUME - 250ml por POO FREE. Sin Sulfatos, Sin Parabenos, Sin Silicona. Concentrado. pH 5.5 para Piel Sensible y Atópica Refuerza el Microbioma.</td>\n",
       "      <td id=\"T_3b27c_row2_col2\" class=\"data row2 col2\" >amazon</td>\n",
       "      <td id=\"T_3b27c_row2_col3\" class=\"data row2 col3\" >(17,99 € / unidad)</td>\n",
       "      <td id=\"T_3b27c_row2_col4\" class=\"data row2 col4\" >17,99 €</td>\n",
       "      <td id=\"T_3b27c_row2_col5\" class=\"data row2 col5\" >Ellipsis</td>\n",
       "      <td id=\"T_3b27c_row2_col6\" class=\"data row2 col6\" >https://m.media-amazon.com/images/W/IMAGERENDERING_521856-T1/images/I/41UAw5JWv+L._SS135_.jpg</td>\n",
       "      <td id=\"T_3b27c_row2_col7\" class=\"data row2 col7\" >/dp/B07BHMNG88/?coliid=I3CJONU8OSXPMJ&colid=NDZ0XZV1BBUQ&psc=1&ref_=lv_vv_lig_dp_it_im</td>\n",
       "      <td id=\"T_3b27c_row2_col8\" class=\"data row2 col8\" >Ellipsis</td>\n",
       "    </tr>\n",
       "    <tr>\n",
       "      <th id=\"T_3b27c_level0_row3\" class=\"row_heading level0 row3\" >3</th>\n",
       "      <td id=\"T_3b27c_row3_col0\" class=\"data row3 col0\" >shampoo</td>\n",
       "      <td id=\"T_3b27c_row3_col1\" class=\"data row3 col1\" >99% Natural CHAMPÚ DERMOPROTECTOR - SIN PERFUME - 250ml de BEES of BRITAIN. Sin Sulfatos, Sin Parabenos. pH 5.5 Piel Sensible. Donamos el 5% de Ganancias Para Ayudar a Salvar Abejas y Polinizadores.</td>\n",
       "      <td id=\"T_3b27c_row3_col2\" class=\"data row3 col2\" >amazon</td>\n",
       "      <td id=\"T_3b27c_row3_col3\" class=\"data row3 col3\" >(17,99 € / unidad)</td>\n",
       "      <td id=\"T_3b27c_row3_col4\" class=\"data row3 col4\" >17,99 €</td>\n",
       "      <td id=\"T_3b27c_row3_col5\" class=\"data row3 col5\" >Ellipsis</td>\n",
       "      <td id=\"T_3b27c_row3_col6\" class=\"data row3 col6\" >https://m.media-amazon.com/images/W/IMAGERENDERING_521856-T1/images/I/317huO3gRRL._SS135_.jpg</td>\n",
       "      <td id=\"T_3b27c_row3_col7\" class=\"data row3 col7\" >/dp/B07YB4J3FQ/?coliid=I227KFRGBU6WJ8&colid=NDZ0XZV1BBUQ&psc=1&ref_=lv_vv_lig_dp_it_im</td>\n",
       "      <td id=\"T_3b27c_row3_col8\" class=\"data row3 col8\" >Ellipsis</td>\n",
       "    </tr>\n",
       "    <tr>\n",
       "      <th id=\"T_3b27c_level0_row4\" class=\"row_heading level0 row4\" >4</th>\n",
       "      <td id=\"T_3b27c_row4_col0\" class=\"data row4 col0\" >shampoo</td>\n",
       "      <td id=\"T_3b27c_row4_col1\" class=\"data row4 col1\" >The Soapy Goat Barra de champú de leche de cabra sin perfume NAkid en un plástico de corte ecológico de lata</td>\n",
       "      <td id=\"T_3b27c_row4_col2\" class=\"data row4 col2\" >amazon</td>\n",
       "      <td id=\"T_3b27c_row4_col3\" class=\"data row4 col3\" >(13,06 € / 100 g)</td>\n",
       "      <td id=\"T_3b27c_row4_col4\" class=\"data row4 col4\" >13,06 €</td>\n",
       "      <td id=\"T_3b27c_row4_col5\" class=\"data row4 col5\" >Ellipsis</td>\n",
       "      <td id=\"T_3b27c_row4_col6\" class=\"data row4 col6\" >https://m.media-amazon.com/images/W/IMAGERENDERING_521856-T1/images/I/21ODNVRYCeL._SS135_.jpg</td>\n",
       "      <td id=\"T_3b27c_row4_col7\" class=\"data row4 col7\" >/dp/B07V743PRM/?coliid=I3M366AA49AEBJ&colid=NDZ0XZV1BBUQ&psc=1&ref_=lv_vv_lig_dp_it_im</td>\n",
       "      <td id=\"T_3b27c_row4_col8\" class=\"data row4 col8\" >Ellipsis</td>\n",
       "    </tr>\n",
       "    <tr>\n",
       "      <th id=\"T_3b27c_level0_row5\" class=\"row_heading level0 row5\" >5</th>\n",
       "      <td id=\"T_3b27c_row5_col0\" class=\"data row5 col0\" >shampoo</td>\n",
       "      <td id=\"T_3b27c_row5_col1\" class=\"data row5 col1\" >Owl & Bee - Champú sólido - Todos los tipos de cabello - Sin fragancia añadida</td>\n",
       "      <td id=\"T_3b27c_row5_col2\" class=\"data row5 col2\" >amazon</td>\n",
       "      <td id=\"T_3b27c_row5_col3\" class=\"data row5 col3\" >(10,90 € / 100 g)</td>\n",
       "      <td id=\"T_3b27c_row5_col4\" class=\"data row5 col4\" >6,32 €</td>\n",
       "      <td id=\"T_3b27c_row5_col5\" class=\"data row5 col5\" >Ellipsis</td>\n",
       "      <td id=\"T_3b27c_row5_col6\" class=\"data row5 col6\" >https://m.media-amazon.com/images/W/IMAGERENDERING_521856-T1/images/I/41a5aw3fzAL._SS135_.jpg</td>\n",
       "      <td id=\"T_3b27c_row5_col7\" class=\"data row5 col7\" >/dp/B093C9W2T3/?coliid=I14HT0COI7WN7&colid=NDZ0XZV1BBUQ&psc=1&ref_=lv_vv_lig_dp_it_im</td>\n",
       "      <td id=\"T_3b27c_row5_col8\" class=\"data row5 col8\" >Ellipsis</td>\n",
       "    </tr>\n",
       "    <tr>\n",
       "      <th id=\"T_3b27c_level0_row6\" class=\"row_heading level0 row6\" >6</th>\n",
       "      <td id=\"T_3b27c_row6_col0\" class=\"data row6 col0\" >shampoo</td>\n",
       "      <td id=\"T_3b27c_row6_col1\" class=\"data row6 col1\" >Champú base, 1 litros, orgánico, sin SLS, SLES, sulfatos o parabenos, con aloe vera.</td>\n",
       "      <td id=\"T_3b27c_row6_col2\" class=\"data row6 col2\" >amazon</td>\n",
       "      <td id=\"T_3b27c_row6_col3\" class=\"data row6 col3\" >(1,60 € / 100 ml)</td>\n",
       "      <td id=\"T_3b27c_row6_col4\" class=\"data row6 col4\" >15,99 €</td>\n",
       "      <td id=\"T_3b27c_row6_col5\" class=\"data row6 col5\" >Ellipsis</td>\n",
       "      <td id=\"T_3b27c_row6_col6\" class=\"data row6 col6\" >https://m.media-amazon.com/images/W/IMAGERENDERING_521856-T1/images/I/21ZuLBBeurS._SS135_.jpg</td>\n",
       "      <td id=\"T_3b27c_row6_col7\" class=\"data row6 col7\" >/dp/B07D8X6GTK/?coliid=I281UP32J1XVER&colid=NDZ0XZV1BBUQ&psc=1&ref_=lv_vv_lig_dp_it_im</td>\n",
       "      <td id=\"T_3b27c_row6_col8\" class=\"data row6 col8\" >Ellipsis</td>\n",
       "    </tr>\n",
       "    <tr>\n",
       "      <th id=\"T_3b27c_level0_row7\" class=\"row_heading level0 row7\" >7</th>\n",
       "      <td id=\"T_3b27c_row7_col0\" class=\"data row7 col0\" >shampoo</td>\n",
       "      <td id=\"T_3b27c_row7_col1\" class=\"data row7 col1\" >99% Natural CHAMPÚ DERMOPROTECTOR - SIN PERFUME - 250ml de NATURE'S INTERVENTION. Sin Sulfatos, Sin Parabenos, Sin Silicona. Concentrado. pH 5.5 para Piel Sensible y Atópica Refuerza el Microbioma.</td>\n",
       "      <td id=\"T_3b27c_row7_col2\" class=\"data row7 col2\" >amazon</td>\n",
       "      <td id=\"T_3b27c_row7_col3\" class=\"data row7 col3\" >(17,99 € / unidad)</td>\n",
       "      <td id=\"T_3b27c_row7_col4\" class=\"data row7 col4\" >17,99 €</td>\n",
       "      <td id=\"T_3b27c_row7_col5\" class=\"data row7 col5\" >Ellipsis</td>\n",
       "      <td id=\"T_3b27c_row7_col6\" class=\"data row7 col6\" >https://m.media-amazon.com/images/W/IMAGERENDERING_521856-T1/images/I/21yBnX3ST6L._SS135_.jpg</td>\n",
       "      <td id=\"T_3b27c_row7_col7\" class=\"data row7 col7\" >/dp/B07QTZCZCW/?coliid=IRJPFXS0LRWDD&colid=NDZ0XZV1BBUQ&psc=1&ref_=lv_vv_lig_dp_it_im</td>\n",
       "      <td id=\"T_3b27c_row7_col8\" class=\"data row7 col8\" >Ellipsis</td>\n",
       "    </tr>\n",
       "    <tr>\n",
       "      <th id=\"T_3b27c_level0_row8\" class=\"row_heading level0 row8\" >8</th>\n",
       "      <td id=\"T_3b27c_row8_col0\" class=\"data row8 col0\" >shampoo</td>\n",
       "      <td id=\"T_3b27c_row8_col1\" class=\"data row8 col1\" >Champú /gel sin perfume Cosmo 1L Bio sin sulfatos ni conservantes</td>\n",
       "      <td id=\"T_3b27c_row8_col2\" class=\"data row8 col2\" >amazon</td>\n",
       "      <td id=\"T_3b27c_row8_col3\" class=\"data row8 col3\" >(1,77 € / 100 ml)</td>\n",
       "      <td id=\"T_3b27c_row8_col4\" class=\"data row8 col4\" >17,69 €</td>\n",
       "      <td id=\"T_3b27c_row8_col5\" class=\"data row8 col5\" >Ellipsis</td>\n",
       "      <td id=\"T_3b27c_row8_col6\" class=\"data row8 col6\" >https://m.media-amazon.com/images/W/IMAGERENDERING_521856-T1/images/I/41SrJVDFKmS._SS135_.jpg</td>\n",
       "      <td id=\"T_3b27c_row8_col7\" class=\"data row8 col7\" >/dp/B00F0N8MGQ/?coliid=I2PL95MNYTF24O&colid=NDZ0XZV1BBUQ&psc=1&ref_=lv_vv_lig_dp_it_im</td>\n",
       "      <td id=\"T_3b27c_row8_col8\" class=\"data row8 col8\" >Ellipsis</td>\n",
       "    </tr>\n",
       "    <tr>\n",
       "      <th id=\"T_3b27c_level0_row9\" class=\"row_heading level0 row9\" >9</th>\n",
       "      <td id=\"T_3b27c_row9_col0\" class=\"data row9 col0\" >shampoo</td>\n",
       "      <td id=\"T_3b27c_row9_col1\" class=\"data row9 col1\" >Champú sin perfume para el cuero cabelludo seco</td>\n",
       "      <td id=\"T_3b27c_row9_col2\" class=\"data row9 col2\" >amazon</td>\n",
       "      <td id=\"T_3b27c_row9_col3\" class=\"data row9 col3\" >(1,64 € / 100 ml)</td>\n",
       "      <td id=\"T_3b27c_row9_col4\" class=\"data row9 col4\" >3,27 €</td>\n",
       "      <td id=\"T_3b27c_row9_col5\" class=\"data row9 col5\" >Ellipsis</td>\n",
       "      <td id=\"T_3b27c_row9_col6\" class=\"data row9 col6\" >https://m.media-amazon.com/images/W/IMAGERENDERING_521856-T1/images/I/415xAYffgvL._SS135_.jpg</td>\n",
       "      <td id=\"T_3b27c_row9_col7\" class=\"data row9 col7\" >/dp/B002E20W2I/?coliid=I1QZCBRW3HVT9K&colid=NDZ0XZV1BBUQ&psc=1&ref_=lv_vv_lig_dp_it_im</td>\n",
       "      <td id=\"T_3b27c_row9_col8\" class=\"data row9 col8\" >Ellipsis</td>\n",
       "    </tr>\n",
       "  </tbody>\n",
       "</table>\n"
      ],
      "text/plain": [
       "<pandas.io.formats.style.Styler at 0x1c45d76fd30>"
      ]
     },
     "execution_count": 12,
     "metadata": {},
     "output_type": "execute_result"
    }
   ],
   "source": [
    "df_items.style"
   ]
  },
  {
   "cell_type": "code",
   "execution_count": null,
   "id": "61efff96-2c64-4a95-924f-764f05dcd1d8",
   "metadata": {},
   "outputs": [],
   "source": []
  }
 ],
 "metadata": {
  "kernelspec": {
   "display_name": "Python (mess)",
   "language": "python",
   "name": "mess"
  },
  "language_info": {
   "codemirror_mode": {
    "name": "ipython",
    "version": 3
   },
   "file_extension": ".py",
   "mimetype": "text/x-python",
   "name": "python",
   "nbconvert_exporter": "python",
   "pygments_lexer": "ipython3",
   "version": "3.11.0"
  }
 },
 "nbformat": 4,
 "nbformat_minor": 5
}
