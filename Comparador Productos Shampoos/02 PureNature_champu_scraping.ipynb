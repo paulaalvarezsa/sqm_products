{
 "cells": [
  {
   "cell_type": "code",
   "execution_count": 242,
   "id": "80a71568-1af4-41d9-9ffd-bc8f6ceb1c59",
   "metadata": {},
   "outputs": [],
   "source": [
    "url = 'https://www.purenature.es/cuidado-cabello-sensibilidad-quimica-multiple'"
   ]
  },
  {
   "cell_type": "code",
   "execution_count": 243,
   "id": "3905cd65-3de8-4e78-8235-70b3fb51fbb9",
   "metadata": {},
   "outputs": [],
   "source": [
    "import requests\n",
    "re = requests.get(url)"
   ]
  },
  {
   "cell_type": "code",
   "execution_count": 244,
   "id": "75a4be1e-8890-48eb-8631-481be57f168d",
   "metadata": {},
   "outputs": [],
   "source": [
    "from bs4 import BeautifulSoup\n",
    "\n",
    "soup = BeautifulSoup(re.content)"
   ]
  },
  {
   "cell_type": "code",
   "execution_count": 245,
   "id": "48b91fb5-105a-4d63-9e25-3c0afc1e6d96",
   "metadata": {},
   "outputs": [],
   "source": [
    "items = soup.find_all(\"div\", {\"class\": \"content--wrapper\"})"
   ]
  },
  {
   "cell_type": "code",
   "execution_count": 246,
   "id": "32d0ba42-568a-45c5-a635-41e12f96536b",
   "metadata": {},
   "outputs": [],
   "source": [
    "items = soup.find_all(\"div\", {\"class\": \"product--box box--basic\"})"
   ]
  },
  {
   "cell_type": "code",
   "execution_count": 247,
   "id": "c481d3e4-b153-4cef-bf7a-f29c22e67272",
   "metadata": {},
   "outputs": [],
   "source": [
    "#item\n",
    "item = soup.find_all(\"div\", {\"class\": \"product--info\"})"
   ]
  },
  {
   "cell_type": "code",
   "execution_count": 248,
   "id": "ed2afd6d-0fa8-4081-a081-8492a4058e0e",
   "metadata": {},
   "outputs": [],
   "source": [
    "item = item[0]"
   ]
  },
  {
   "cell_type": "code",
   "execution_count": 249,
   "id": "76eef2f4-450b-4816-9811-0a7ad15a41ce",
   "metadata": {},
   "outputs": [
    {
     "data": {
      "text/plain": [
       "<div class=\"product--info\">\n",
       "<a class=\"product--image\" href=\"https://www.purenature.es/jabon-de-aceite-de-oliva-griego\" title=\"Jabón de aceite de oliva griego\">\n",
       "<span class=\"image--element\">\n",
       "<span class=\"image--media\">\n",
       "<img alt=\"Jabón de aceite de oliva griego\" class=\"lazyload\" data-src=\"https://www.purenature.es/media/image/ff/f0/79/20305_01_200x200.jpg\" title=\"Jabón de aceite de oliva griego\"/>\n",
       "</span>\n",
       "</span>\n",
       "</a>\n",
       "<a class=\"product--title\" href=\"https://www.purenature.es/jabon-de-aceite-de-oliva-griego\" title=\"Jabón de aceite de oliva griego\">\n",
       "Jabón de aceite de oliva griego\n",
       "</a>\n",
       "<div class=\"product--description\">\n",
       "Apto para todo tipo de piel, incluso seca y sensible. Es biodegradable, sin colorantes ni potasa y por lo tanto respetuoso con el medio ambiente. En Oriente también se utiliza para lavar el cabello.\n",
       "</div>\n",
       "<div class=\"product--price-info\">\n",
       "<div class=\"price--unit\">\n",
       "<span class=\"is--nowrap\">\n",
       "0.125kg\n",
       "</span>\n",
       "<span class=\"is--nowrap\">\n",
       "(€ 16,08 / 1 kg)\n",
       "</span>\n",
       "</div>\n",
       "<div class=\"product--rating-container\">\n",
       "</div>\n",
       "<div class=\"product--price-outer\">\n",
       "<div class=\"product--price\">\n",
       "<span class=\"price--default is--nowrap\">\n",
       "€ 2.01\n",
       "</span>\n",
       "</div>\n",
       "</div>\n",
       "</div>\n",
       "</div>"
      ]
     },
     "execution_count": 249,
     "metadata": {},
     "output_type": "execute_result"
    }
   ],
   "source": [
    "item"
   ]
  },
  {
   "cell_type": "code",
   "execution_count": 250,
   "id": "7772db23-9527-42fe-85d7-79d8ad3beaf7",
   "metadata": {},
   "outputs": [],
   "source": [
    "item_img_link = item.find('img')"
   ]
  },
  {
   "cell_type": "code",
   "execution_count": 251,
   "id": "f3379ba4-55c0-43db-9263-f560f7cb0ce3",
   "metadata": {},
   "outputs": [],
   "source": [
    "item_img_link = item_img_link['data-src']"
   ]
  },
  {
   "cell_type": "code",
   "execution_count": 252,
   "id": "6a14b155-398d-48b3-a782-b155672c1c3e",
   "metadata": {},
   "outputs": [
    {
     "data": {
      "text/plain": [
       "'https://www.purenature.es/media/image/ff/f0/79/20305_01_200x200.jpg'"
      ]
     },
     "execution_count": 252,
     "metadata": {},
     "output_type": "execute_result"
    }
   ],
   "source": [
    "item_img_link"
   ]
  },
  {
   "cell_type": "code",
   "execution_count": 253,
   "id": "51ba038f-3a33-4286-82a6-ac52ed339add",
   "metadata": {},
   "outputs": [],
   "source": [
    "item_url = item.find(\"a\", {\"class\": \"product--image\"})"
   ]
  },
  {
   "cell_type": "code",
   "execution_count": 254,
   "id": "78ac19d5-5e4a-47ae-a94f-0cecaf25b2bb",
   "metadata": {},
   "outputs": [],
   "source": [
    "item_url = item_url[\"href\"]"
   ]
  },
  {
   "cell_type": "code",
   "execution_count": 255,
   "id": "d684e178-9585-4a7a-bdb2-951da00033a8",
   "metadata": {},
   "outputs": [
    {
     "data": {
      "text/plain": [
       "'https://www.purenature.es/jabon-de-aceite-de-oliva-griego'"
      ]
     },
     "execution_count": 255,
     "metadata": {},
     "output_type": "execute_result"
    }
   ],
   "source": [
    "item_url"
   ]
  },
  {
   "cell_type": "code",
   "execution_count": 256,
   "id": "2719f14f-b3a4-489e-b4bc-ac10998bf406",
   "metadata": {},
   "outputs": [],
   "source": [
    "item_title = item.find(\"img\")[\"alt\"]\n",
    "\n",
    "# item_title = item.find(\"a\", {\"class\": \"product--image\"})\n",
    "# item_title = item_title[\"title\"]"
   ]
  },
  {
   "cell_type": "code",
   "execution_count": 257,
   "id": "65044f08-9ef5-4fbc-892a-2941474dab8c",
   "metadata": {},
   "outputs": [
    {
     "data": {
      "text/plain": [
       "'Jabón de aceite de oliva griego'"
      ]
     },
     "execution_count": 257,
     "metadata": {},
     "output_type": "execute_result"
    }
   ],
   "source": [
    "item_title"
   ]
  },
  {
   "cell_type": "code",
   "execution_count": 258,
   "id": "d8d116c3-8d01-42d0-8620-6bdbafeea576",
   "metadata": {},
   "outputs": [],
   "source": [
    "item_price_quantity = item.find_all(\"span\", {\"class\": \"is--nowrap\"})"
   ]
  },
  {
   "cell_type": "code",
   "execution_count": 259,
   "id": "d5920600-d301-4ab2-b7cb-04027dc69115",
   "metadata": {},
   "outputs": [
    {
     "data": {
      "text/plain": [
       "[<span class=\"is--nowrap\">\n",
       " 0.125kg\n",
       " </span>,\n",
       " <span class=\"is--nowrap\">\n",
       " (€ 16,08 / 1 kg)\n",
       " </span>,\n",
       " <span class=\"price--default is--nowrap\">\n",
       " € 2.01\n",
       " </span>]"
      ]
     },
     "execution_count": 259,
     "metadata": {},
     "output_type": "execute_result"
    }
   ],
   "source": [
    "item_price_quantity"
   ]
  },
  {
   "cell_type": "code",
   "execution_count": 260,
   "id": "c0ad5898-e82a-4908-8ed9-bd73e437427c",
   "metadata": {},
   "outputs": [],
   "source": [
    "item_price_quantity = item_price_quantity[1].text.strip()"
   ]
  },
  {
   "cell_type": "code",
   "execution_count": 261,
   "id": "2cc220d4-2e0c-45a7-ae2a-e2e309d69a57",
   "metadata": {},
   "outputs": [
    {
     "data": {
      "text/plain": [
       "'(€\\xa016,08 / 1 kg)'"
      ]
     },
     "execution_count": 261,
     "metadata": {},
     "output_type": "execute_result"
    }
   ],
   "source": [
    "item_price_quantity"
   ]
  },
  {
   "cell_type": "code",
   "execution_count": 262,
   "id": "b71a4201-b724-4237-8f96-1254f330c2f0",
   "metadata": {},
   "outputs": [],
   "source": [
    "item_price = item.find(\"span\", {\"class\": \"price--default is--nowrap\"})"
   ]
  },
  {
   "cell_type": "code",
   "execution_count": 263,
   "id": "be03b2ad-5b35-4868-a5c9-ee38a60b0ad0",
   "metadata": {},
   "outputs": [],
   "source": [
    "item_price = item_price.text.strip()"
   ]
  },
  {
   "cell_type": "code",
   "execution_count": 264,
   "id": "3c9c6fdc-cfd7-40d9-9609-60b54112e7b9",
   "metadata": {},
   "outputs": [
    {
     "data": {
      "text/plain": [
       "'€\\xa02.01'"
      ]
     },
     "execution_count": 264,
     "metadata": {},
     "output_type": "execute_result"
    }
   ],
   "source": [
    "item_price"
   ]
  },
  {
   "cell_type": "code",
   "execution_count": 265,
   "id": "a1763768-529f-4400-b16b-dab6f38dc092",
   "metadata": {},
   "outputs": [],
   "source": [
    "item_shop = \"purenature\""
   ]
  },
  {
   "cell_type": "code",
   "execution_count": 266,
   "id": "d4944d46-bb6e-412a-9167-70e1cf76a04b",
   "metadata": {},
   "outputs": [],
   "source": [
    "item_quantity = item.find(\"span\", {\"class\": \"is--nowrap\"})"
   ]
  },
  {
   "cell_type": "code",
   "execution_count": 267,
   "id": "fb9befd8-e1c5-4eab-bc69-e423536e1359",
   "metadata": {},
   "outputs": [],
   "source": [
    "item_quantity = item_quantity.text.strip()"
   ]
  },
  {
   "cell_type": "code",
   "execution_count": 268,
   "id": "0f6af818-25f9-4190-bee7-1c5636651ead",
   "metadata": {},
   "outputs": [
    {
     "data": {
      "text/plain": [
       "'0.125kg'"
      ]
     },
     "execution_count": 268,
     "metadata": {},
     "output_type": "execute_result"
    }
   ],
   "source": [
    "item_quantity"
   ]
  },
  {
   "cell_type": "code",
   "execution_count": 269,
   "id": "480470f3-c273-4cb2-89c4-10d97fe6f06b",
   "metadata": {},
   "outputs": [],
   "source": [
    "item_dic = {\n",
    "            'category': ...,\n",
    "            'product_name': item_title,\n",
    "            'shop': item_shop,\n",
    "            'price_unitary_ml': item_price_quantity,\n",
    "            'product_price': item_price,\n",
    "            'product_quantity': item_quantity,\n",
    "            'picture': item_img_link,\n",
    "            'link': item_url,\n",
    "            'id': ...,\n",
    "        }"
   ]
  },
  {
   "cell_type": "code",
   "execution_count": 270,
   "id": "29db4906-9d36-408a-b558-aa5fa986f0df",
   "metadata": {},
   "outputs": [
    {
     "data": {
      "text/plain": [
       "{'category': Ellipsis,\n",
       " 'product_name': 'Jabón de aceite de oliva griego',\n",
       " 'shop': 'purenature',\n",
       " 'price_unitary_ml': '(€\\xa016,08 / 1 kg)',\n",
       " 'product_price': '€\\xa02.01',\n",
       " 'product_quantity': '0.125kg',\n",
       " 'picture': 'https://www.purenature.es/media/image/ff/f0/79/20305_01_200x200.jpg',\n",
       " 'link': 'https://www.purenature.es/jabon-de-aceite-de-oliva-griego',\n",
       " 'id': Ellipsis}"
      ]
     },
     "execution_count": 270,
     "metadata": {},
     "output_type": "execute_result"
    }
   ],
   "source": [
    "item_dic"
   ]
  },
  {
   "cell_type": "code",
   "execution_count": 271,
   "id": "ee827e08-15a2-477e-8e9c-d2037d936e07",
   "metadata": {},
   "outputs": [
    {
     "data": {
      "text/plain": [
       "48"
      ]
     },
     "execution_count": 271,
     "metadata": {},
     "output_type": "execute_result"
    }
   ],
   "source": [
    "len(items)"
   ]
  },
  {
   "cell_type": "code",
   "execution_count": 272,
   "id": "88d8875d-fc1b-4b23-986e-9c13ddc12dca",
   "metadata": {},
   "outputs": [
    {
     "data": {
      "text/plain": [
       "<div class=\"product--box box--basic\" data-master-id=\"407\" data-ordernumber=\"20588\" data-page-index=\"\" data-price=\"7,40\">\n",
       "<div class=\"box--content is--rounded\">\n",
       "<div class=\"product--info\">\n",
       "<a class=\"product--image\" href=\"https://www.purenature.es/acondicionador-suavizante-para-cabello-no-perfume\" title=\"Acondicionador suavizante para cabello No Perfume\">\n",
       "<span class=\"image--element\">\n",
       "<span class=\"image--media\">\n",
       "<img alt=\"Acondicionador suavizante para cabello No Perfume\" class=\"lazyload\" data-src=\"https://www.purenature.es/media/image/1f/6f/4f/20588_01_200x200.jpg\" title=\"Acondicionador suavizante para cabello No Perfume\"/>\n",
       "</span>\n",
       "</span>\n",
       "</a>\n",
       "<a class=\"product--title\" href=\"https://www.purenature.es/acondicionador-suavizante-para-cabello-no-perfume\" title=\"Acondicionador suavizante para cabello No Perfume\">\n",
       "Acondicionador suavizante para cabello No Perfume\n",
       "</a>\n",
       "<div class=\"product--description\">\n",
       "Sin fragancia. Certificado ecológico Ecocert. No Perfume de Urtekram La línea Sin Perfume de la marca Urtekram tiene el sello de la Asociación Danesa de Asma y Alergia, que asegura que los productos tienen un riesgo mínimo de alergia....\n",
       "</div>\n",
       "<div class=\"product--price-info\">\n",
       "<div class=\"price--unit\">\n",
       "<span class=\"is--nowrap\">\n",
       "0.18l\n",
       "</span>\n",
       "<span class=\"is--nowrap\">\n",
       "(€ 41,11 / 1 l)\n",
       "</span>\n",
       "</div>\n",
       "<div class=\"product--rating-container\">\n",
       "</div>\n",
       "<div class=\"product--price-outer\">\n",
       "<div class=\"product--price\">\n",
       "<span class=\"price--pseudo\">\n",
       "<span class=\"price--discount price--discount-price price--discount-basic is--nowrap\">\n",
       "€ 7.49\n",
       "</span>\n",
       "</span>\n",
       "<span class=\"price--default is--nowrap is--discount\">\n",
       "€ 7.40\n",
       "</span>\n",
       "</div>\n",
       "</div>\n",
       "</div>\n",
       "</div>\n",
       "<div class=\"product--badges\">\n",
       "</div>\n",
       "<div class=\"product--actions-container\">\n",
       "<div class=\"product--actions\">\n",
       "<div class=\"product--price-vat\">\n",
       "IVA incluido y <a href=\"https://www.purenature.es/gastos-de-envio\" title=\"gastos envio\">gastos envio</a> no incluidos\n",
       "</div>\n",
       "<div class=\"product-filter--link\">\n",
       "Sus artículos\n",
       "<a class=\"is--underline product-filter--link\" href=\"#\" title=\"Criterios filtro\">\n",
       "Criterios filtro\n",
       "</a>\n",
       "!\n",
       "</div>\n",
       "<a class=\"track--cart btn btn--block is--primary is--fluid is--center has--icon-big margin-bottom-xs\" data-add-article=\"true\" data-addarticleurl=\"https://www.purenature.es/checkout/addArticle/sAdd/20588/sQuantity/1\" href=\"https://www.purenature.es/checkout/addArticle/sAdd/20588/sQuantity/1\">\n",
       "<i class=\"icon--basket margin-right-xxs\"></i>\n",
       "<span class=\"btn--text\">\n",
       "Añadir a la cesta\n",
       "</span>\n",
       "</a>\n",
       "<a class=\"btn action--note is--small is--fluid is--center\" data-ajaxurl=\"https://www.purenature.es/note/ajaxAdd/ordernumber/20588\" data-text=\"\" href=\"https://www.purenature.es/note/add/ordernumber/20588\" rel=\"nofollow\" title=\"Añadir a Favoritos\">\n",
       "<span class=\"action--text\">añadir a Favoritos</span>\n",
       "</a>\n",
       "</div>\n",
       "</div>\n",
       "</div>\n",
       "</div>"
      ]
     },
     "execution_count": 272,
     "metadata": {},
     "output_type": "execute_result"
    }
   ],
   "source": [
    "items[6]"
   ]
  },
  {
   "cell_type": "code",
   "execution_count": 273,
   "id": "0c53cf74-01c3-4a49-bad0-973018da4b77",
   "metadata": {},
   "outputs": [
    {
     "data": {
      "text/plain": [
       "'desde\\n€\\xa07.40'"
      ]
     },
     "execution_count": 273,
     "metadata": {},
     "output_type": "execute_result"
    }
   ],
   "source": [
    "items[2].find(\"span\", {\"class\": \"price--default is--nowrap\"}).text.strip()"
   ]
  },
  {
   "cell_type": "code",
   "execution_count": 274,
   "id": "6e416ed2-e8be-4b5a-86e1-dabb5229e60e",
   "metadata": {},
   "outputs": [
    {
     "data": {
      "text/plain": [
       "<div class=\"product--box box--basic\" data-master-id=\"235\" data-ordernumber=\"20305\" data-page-index=\"\" data-price=\"2,01\">\n",
       "<div class=\"box--content is--rounded\">\n",
       "<div class=\"product--info\">\n",
       "<a class=\"product--image\" href=\"https://www.purenature.es/jabon-de-aceite-de-oliva-griego\" title=\"Jabón de aceite de oliva griego\">\n",
       "<span class=\"image--element\">\n",
       "<span class=\"image--media\">\n",
       "<img alt=\"Jabón de aceite de oliva griego\" class=\"lazyload\" data-src=\"https://www.purenature.es/media/image/ff/f0/79/20305_01_200x200.jpg\" title=\"Jabón de aceite de oliva griego\"/>\n",
       "</span>\n",
       "</span>\n",
       "</a>\n",
       "<a class=\"product--title\" href=\"https://www.purenature.es/jabon-de-aceite-de-oliva-griego\" title=\"Jabón de aceite de oliva griego\">\n",
       "Jabón de aceite de oliva griego\n",
       "</a>\n",
       "<div class=\"product--description\">\n",
       "Apto para todo tipo de piel, incluso seca y sensible. Es biodegradable, sin colorantes ni potasa y por lo tanto respetuoso con el medio ambiente. En Oriente también se utiliza para lavar el cabello.\n",
       "</div>\n",
       "<div class=\"product--price-info\">\n",
       "<div class=\"price--unit\">\n",
       "<span class=\"is--nowrap\">\n",
       "0.125kg\n",
       "</span>\n",
       "<span class=\"is--nowrap\">\n",
       "(€ 16,08 / 1 kg)\n",
       "</span>\n",
       "</div>\n",
       "<div class=\"product--rating-container\">\n",
       "</div>\n",
       "<div class=\"product--price-outer\">\n",
       "<div class=\"product--price\">\n",
       "<span class=\"price--default is--nowrap\">\n",
       "€ 2.01\n",
       "</span>\n",
       "</div>\n",
       "</div>\n",
       "</div>\n",
       "</div>\n",
       "<div class=\"product--badges\">\n",
       "</div>\n",
       "<div class=\"product--actions-container\">\n",
       "<div class=\"product--actions\">\n",
       "<div class=\"product--price-vat\">\n",
       "IVA incluido y <a href=\"https://www.purenature.es/gastos-de-envio\" title=\"gastos envio\">gastos envio</a> no incluidos\n",
       "</div>\n",
       "<div class=\"product-filter--link\">\n",
       "Sus artículos\n",
       "<a class=\"is--underline product-filter--link\" href=\"#\" title=\"Criterios filtro\">\n",
       "Criterios filtro\n",
       "</a>\n",
       "!\n",
       "</div>\n",
       "<a class=\"track--cart btn btn--block is--primary is--fluid is--center has--icon-big margin-bottom-xs\" data-add-article=\"true\" data-addarticleurl=\"https://www.purenature.es/checkout/addArticle/sAdd/20305/sQuantity/1\" href=\"https://www.purenature.es/checkout/addArticle/sAdd/20305/sQuantity/1\">\n",
       "<i class=\"icon--basket margin-right-xxs\"></i>\n",
       "<span class=\"btn--text\">\n",
       "Añadir a la cesta\n",
       "</span>\n",
       "</a>\n",
       "<a class=\"btn action--note is--small is--fluid is--center\" data-ajaxurl=\"https://www.purenature.es/note/ajaxAdd/ordernumber/20305\" data-text=\"\" href=\"https://www.purenature.es/note/add/ordernumber/20305\" rel=\"nofollow\" title=\"Añadir a Favoritos\">\n",
       "<span class=\"action--text\">añadir a Favoritos</span>\n",
       "</a>\n",
       "</div>\n",
       "</div>\n",
       "</div>\n",
       "</div>"
      ]
     },
     "execution_count": 274,
     "metadata": {},
     "output_type": "execute_result"
    }
   ],
   "source": [
    "items[0]"
   ]
  },
  {
   "cell_type": "code",
   "execution_count": 275,
   "id": "15a1d019-7579-44b2-8960-beff4eb29ba7",
   "metadata": {},
   "outputs": [
    {
     "data": {
      "text/plain": [
       "'€\\xa02.01'"
      ]
     },
     "execution_count": 275,
     "metadata": {},
     "output_type": "execute_result"
    }
   ],
   "source": [
    "items[0].find(\"span\", {\"class\": \"price--default is--nowrap\"}).text.strip()"
   ]
  },
  {
   "cell_type": "code",
   "execution_count": 276,
   "id": "aed6dee5-1d62-4336-a570-1da6e31bd236",
   "metadata": {},
   "outputs": [
    {
     "data": {
      "text/plain": [
       "'€\\xa02.01'"
      ]
     },
     "execution_count": 276,
     "metadata": {},
     "output_type": "execute_result"
    }
   ],
   "source": [
    "items[0].find(\"span\", {\"class\": \"price--default is--nowrap\"}).text.strip()"
   ]
  },
  {
   "cell_type": "code",
   "execution_count": 277,
   "id": "04f6b08b-65df-4e5a-80dd-a2523361b2e4",
   "metadata": {},
   "outputs": [
    {
     "data": {
      "text/plain": [
       "True"
      ]
     },
     "execution_count": 277,
     "metadata": {},
     "output_type": "execute_result"
    }
   ],
   "source": [
    "items[0].find(\"span\", {\"class\": \"price--default is--nowrap is--discount\"}) == None"
   ]
  },
  {
   "cell_type": "code",
   "execution_count": 278,
   "id": "6ee41f6f-53c6-4324-a6e5-2c01b236ca68",
   "metadata": {},
   "outputs": [
    {
     "name": "stdout",
     "output_type": "stream",
     "text": [
      "€ 2.01\n"
     ]
    }
   ],
   "source": [
    "if (items[0].find(\"span\", {\"class\": \"price--default is--nowrap is--discount\"})) == None:\n",
    "    print(items[0].find(\"span\", {\"class\": \"price--default is--nowrap\"}).text.strip())\n",
    "            \n",
    "else:\n",
    "    items[0].find(\"span\", {\"class\": \"price--default is--nowrap is--discount\"}).text.strip()"
   ]
  },
  {
   "cell_type": "code",
   "execution_count": 279,
   "id": "951d1228-154e-4a2b-847d-2e7a063cad74",
   "metadata": {},
   "outputs": [
    {
     "name": "stdout",
     "output_type": "stream",
     "text": [
      "pass\n",
      "pass\n",
      "pass\n",
      "pass\n",
      "pass\n",
      "pass\n",
      "pass\n",
      "pass\n",
      "pass\n",
      "pass\n",
      "pass\n",
      "pass\n",
      "pass\n",
      "pass\n",
      "pass\n"
     ]
    }
   ],
   "source": [
    "items = soup.find_all(\"div\", {\"class\": \"product--info\"})\n",
    "\n",
    "items_list = []\n",
    "\n",
    "for item in items:\n",
    "    \n",
    "    try:\n",
    "        item_shop = \"Purenature\"\n",
    "        \n",
    "        #img link\n",
    "        item_img_link = item.find('img')\n",
    "        item_img_link = item_img_link['data-src']\n",
    "        \n",
    "        #item url\n",
    "        item_url = item.find(\"a\", {\"class\": \"product--image\"})\n",
    "        item_url = item_url[\"href\"]\n",
    "        \n",
    "        #item title\n",
    "        item_title = item.find(\"img\")[\"alt\"]\n",
    "        \n",
    "        #price quantity\n",
    "        item_price_quantity = item.find_all(\"span\", {\"class\": \"is--nowrap\"})\n",
    "        item_price_quantity = item_price_quantity[1].text.strip()\n",
    "        \n",
    "        #item price\n",
    "        #we check if the current item has an active discount by accessing a \"discount tag\"\n",
    "        if (item.find(\"span\", {\"class\": \"price--default is--nowrap is--discount\"})) == None: \n",
    "            item_price = item.find(\"span\", {\"class\": \"price--default is--nowrap\"}).text.strip() \n",
    "        else: #the item has discount\n",
    "            item_price = item.find(\"span\", {\"class\": \"price--default is--nowrap is--discount\"}).text.strip()\n",
    "        \n",
    "        #item quantity\n",
    "        item_quantity = item.find(\"span\", {\"class\": \"is--nowrap\"})\n",
    "        item_quantity = item_quantity.text.strip()\n",
    "        \n",
    "        item_dic = {\n",
    "            'category': 'Campú',\n",
    "            'product_name': item_title,\n",
    "            'shop': item_shop,\n",
    "            'price_unitary_ml': item_price_quantity,\n",
    "            'product_price': item_price,\n",
    "            'product_quantity': item_quantity,\n",
    "            'picture': item_img_link,\n",
    "            'link': item_url,\n",
    "            # 'id': ...,\n",
    "        }\n",
    "        \n",
    "        items_list.append(item_dic) #append the current dictionary of item's attributes\n",
    "        \n",
    "    except:\n",
    "        print('pass')\n",
    "        "
   ]
  },
  {
   "cell_type": "code",
   "execution_count": 284,
   "id": "2d2fdf60-07ea-4432-a671-fcef473b7ac6",
   "metadata": {},
   "outputs": [
    {
     "data": {
      "text/html": [
       "<div>\n",
       "<style scoped>\n",
       "    .dataframe tbody tr th:only-of-type {\n",
       "        vertical-align: middle;\n",
       "    }\n",
       "\n",
       "    .dataframe tbody tr th {\n",
       "        vertical-align: top;\n",
       "    }\n",
       "\n",
       "    .dataframe thead th {\n",
       "        text-align: right;\n",
       "    }\n",
       "</style>\n",
       "<table border=\"1\" class=\"dataframe\">\n",
       "  <thead>\n",
       "    <tr style=\"text-align: right;\">\n",
       "      <th></th>\n",
       "      <th>category</th>\n",
       "      <th>product_name</th>\n",
       "      <th>shop</th>\n",
       "      <th>price_unitary_ml</th>\n",
       "      <th>product_price</th>\n",
       "      <th>product_quantity</th>\n",
       "      <th>picture</th>\n",
       "      <th>link</th>\n",
       "      <th>id</th>\n",
       "    </tr>\n",
       "  </thead>\n",
       "  <tbody>\n",
       "    <tr>\n",
       "      <th>0</th>\n",
       "      <td>Ellipsis</td>\n",
       "      <td>Jabón de aceite de oliva griego</td>\n",
       "      <td>purenature</td>\n",
       "      <td>(€ 16,08 / 1 kg)</td>\n",
       "      <td>€ 2.01</td>\n",
       "      <td>0.125kg</td>\n",
       "      <td>https://www.purenature.es/media/image/ff/f0/79...</td>\n",
       "      <td>https://www.purenature.es/jabon-de-aceite-de-o...</td>\n",
       "      <td>Ellipsis</td>\n",
       "    </tr>\n",
       "    <tr>\n",
       "      <th>1</th>\n",
       "      <td>Ellipsis</td>\n",
       "      <td>Jabón de aceite de oliva griego (set de 6)</td>\n",
       "      <td>purenature</td>\n",
       "      <td>(€ 14,07 / 1 kg)</td>\n",
       "      <td>€ 10.55</td>\n",
       "      <td>0.75kg</td>\n",
       "      <td>https://www.purenature.es/media/image/2a/ed/50...</td>\n",
       "      <td>https://www.purenature.es/jabon-de-aceite-de-o...</td>\n",
       "      <td>Ellipsis</td>\n",
       "    </tr>\n",
       "    <tr>\n",
       "      <th>2</th>\n",
       "      <td>Ellipsis</td>\n",
       "      <td>Champú No Perfume de Urtekram</td>\n",
       "      <td>purenature</td>\n",
       "      <td>(€ 29,60 / 1 l)</td>\n",
       "      <td>desde\\n€ 7.40</td>\n",
       "      <td>0.25l</td>\n",
       "      <td>https://www.purenature.es/media/image/cd/fa/13...</td>\n",
       "      <td>https://www.purenature.es/champu-no-perfume-de...</td>\n",
       "      <td>Ellipsis</td>\n",
       "    </tr>\n",
       "    <tr>\n",
       "      <th>3</th>\n",
       "      <td>Ellipsis</td>\n",
       "      <td>Laca bio extra fuerte sin fragancia</td>\n",
       "      <td>purenature</td>\n",
       "      <td>(€ 102,67 / 1 l)</td>\n",
       "      <td>€ 15.40</td>\n",
       "      <td>0.15l</td>\n",
       "      <td>https://www.purenature.es/media/image/b7/39/25...</td>\n",
       "      <td>https://www.purenature.es/laca-para-cabello-si...</td>\n",
       "      <td>Ellipsis</td>\n",
       "    </tr>\n",
       "    <tr>\n",
       "      <th>4</th>\n",
       "      <td>Ellipsis</td>\n",
       "      <td>Jabón de coco ecológico</td>\n",
       "      <td>purenature</td>\n",
       "      <td>(€ 62,50 / 1 kg)</td>\n",
       "      <td>€ 6.25</td>\n",
       "      <td>0.1kg</td>\n",
       "      <td>https://www.purenature.es/media/image/e1/96/18...</td>\n",
       "      <td>https://www.purenature.es/jabon-de-coco-ecolog...</td>\n",
       "      <td>Ellipsis</td>\n",
       "    </tr>\n",
       "    <tr>\n",
       "      <th>5</th>\n",
       "      <td>Ellipsis</td>\n",
       "      <td>Crema fijadora bio sin fragancia para cabello ...</td>\n",
       "      <td>purenature</td>\n",
       "      <td>(€ 109,33 / 1 l)</td>\n",
       "      <td>€ 16.40</td>\n",
       "      <td>0.15l</td>\n",
       "      <td>https://www.purenature.es/media/image/49/37/9d...</td>\n",
       "      <td>https://www.purenature.es/fijador-bio-crema-ca...</td>\n",
       "      <td>Ellipsis</td>\n",
       "    </tr>\n",
       "    <tr>\n",
       "      <th>6</th>\n",
       "      <td>Ellipsis</td>\n",
       "      <td>Acondicionador suavizante para cabello No Perfume</td>\n",
       "      <td>purenature</td>\n",
       "      <td>(€ 41,11 / 1 l)</td>\n",
       "      <td>€ 7.40</td>\n",
       "      <td>0.18l</td>\n",
       "      <td>https://www.purenature.es/media/image/1f/6f/4f...</td>\n",
       "      <td>https://www.purenature.es/acondicionador-suavi...</td>\n",
       "      <td>Ellipsis</td>\n",
       "    </tr>\n",
       "    <tr>\n",
       "      <th>7</th>\n",
       "      <td>Ellipsis</td>\n",
       "      <td>Champú y gel de ducha con sal del Mar Muerto CMD</td>\n",
       "      <td>purenature</td>\n",
       "      <td>(€ 47,50 / 1 l)</td>\n",
       "      <td>€ 9.50</td>\n",
       "      <td>0.2l</td>\n",
       "      <td>https://www.purenature.es/media/image/9f/72/e7...</td>\n",
       "      <td>https://www.purenature.es/champu-y-gel-de-duch...</td>\n",
       "      <td>Ellipsis</td>\n",
       "    </tr>\n",
       "    <tr>\n",
       "      <th>8</th>\n",
       "      <td>Ellipsis</td>\n",
       "      <td>Champú y gel ducha Safe Choice</td>\n",
       "      <td>purenature</td>\n",
       "      <td>(€ 95,00 / 1 l)</td>\n",
       "      <td>desde\\n€ 9.50</td>\n",
       "      <td>0.1l</td>\n",
       "      <td>https://www.purenature.es/media/image/0e/d0/54...</td>\n",
       "      <td>https://www.purenature.es/champu-y-gel-ducha-s...</td>\n",
       "      <td>Ellipsis</td>\n",
       "    </tr>\n",
       "    <tr>\n",
       "      <th>9</th>\n",
       "      <td>Ellipsis</td>\n",
       "      <td>Gel ducha y champú para niños sin perfume Urte...</td>\n",
       "      <td>purenature</td>\n",
       "      <td>(€ 25,16 / 1 l)</td>\n",
       "      <td>€ 6.29</td>\n",
       "      <td>0.25l</td>\n",
       "      <td>https://www.purenature.es/media/image/d1/86/ac...</td>\n",
       "      <td>https://www.purenature.es/gel-ducha-y-champu-p...</td>\n",
       "      <td>Ellipsis</td>\n",
       "    </tr>\n",
       "    <tr>\n",
       "      <th>10</th>\n",
       "      <td>Ellipsis</td>\n",
       "      <td>Champú para niños sin fragancia</td>\n",
       "      <td>purenature</td>\n",
       "      <td>(€ 50,80 / 1 l)</td>\n",
       "      <td>€ 12.70</td>\n",
       "      <td>0.25l</td>\n",
       "      <td>https://www.purenature.es/media/image/60/e4/a8...</td>\n",
       "      <td>https://www.purenature.es/champu-para-ninos-un...</td>\n",
       "      <td>Ellipsis</td>\n",
       "    </tr>\n",
       "    <tr>\n",
       "      <th>11</th>\n",
       "      <td>Ellipsis</td>\n",
       "      <td>Jabón de Aleppo ecológico para cabello</td>\n",
       "      <td>purenature</td>\n",
       "      <td>(€ 73,10 / 1 kg)</td>\n",
       "      <td>€ 7.31</td>\n",
       "      <td>0.1kg</td>\n",
       "      <td>https://www.purenature.es/media/image/e3/19/09...</td>\n",
       "      <td>https://www.purenature.es/jabon-aleppo-ecologi...</td>\n",
       "      <td>Ellipsis</td>\n",
       "    </tr>\n",
       "    <tr>\n",
       "      <th>12</th>\n",
       "      <td>Ellipsis</td>\n",
       "      <td>Gel fijador para cabello de Real Purity</td>\n",
       "      <td>purenature</td>\n",
       "      <td>(€ 149,92 / 1 l)</td>\n",
       "      <td>€ 17.99</td>\n",
       "      <td>0.12l</td>\n",
       "      <td>https://www.purenature.es/media/image/2d/d8/f5...</td>\n",
       "      <td>https://www.purenature.es/gel-fijador-para-cab...</td>\n",
       "      <td>Ellipsis</td>\n",
       "    </tr>\n",
       "    <tr>\n",
       "      <th>13</th>\n",
       "      <td>Ellipsis</td>\n",
       "      <td>Gel de ducha y champú Neutral de Lavera</td>\n",
       "      <td>purenature</td>\n",
       "      <td>(€ 34,50 / 1 l)</td>\n",
       "      <td>€ 6.90</td>\n",
       "      <td>0.2l</td>\n",
       "      <td>https://www.purenature.es/media/image/bc/f4/00...</td>\n",
       "      <td>https://www.purenature.es/gel-de-ducha-y-champ...</td>\n",
       "      <td>Ellipsis</td>\n",
       "    </tr>\n",
       "    <tr>\n",
       "      <th>14</th>\n",
       "      <td>Ellipsis</td>\n",
       "      <td>Champú Sensitive de Eubiona</td>\n",
       "      <td>purenature</td>\n",
       "      <td>(€ 34,20 / 1 l)</td>\n",
       "      <td>€ 6.84</td>\n",
       "      <td>0.2l</td>\n",
       "      <td>https://www.purenature.es/media/image/5c/de/db...</td>\n",
       "      <td>https://www.purenature.es/champu-sensitive-de-...</td>\n",
       "      <td>Ellipsis</td>\n",
       "    </tr>\n",
       "    <tr>\n",
       "      <th>15</th>\n",
       "      <td>Ellipsis</td>\n",
       "      <td>Aceite de coco virgen ecológico Naturland</td>\n",
       "      <td>purenature</td>\n",
       "      <td>€ 20.60</td>\n",
       "      <td>€ 20.60</td>\n",
       "      <td>1l</td>\n",
       "      <td>https://www.purenature.es/media/image/38/84/81...</td>\n",
       "      <td>https://www.purenature.es/aceite-de-coco-virge...</td>\n",
       "      <td>Ellipsis</td>\n",
       "    </tr>\n",
       "    <tr>\n",
       "      <th>16</th>\n",
       "      <td>Ellipsis</td>\n",
       "      <td>Copos de jabón ecológico de aceite de oliva</td>\n",
       "      <td>purenature</td>\n",
       "      <td>(€ 29,60 / 1 kg)</td>\n",
       "      <td>€ 7.40</td>\n",
       "      <td>0.25kg</td>\n",
       "      <td>https://www.purenature.es/media/image/ef/0a/31...</td>\n",
       "      <td>https://www.purenature.es/copos-jabon-eco-oliva</td>\n",
       "      <td>Ellipsis</td>\n",
       "    </tr>\n",
       "    <tr>\n",
       "      <th>17</th>\n",
       "      <td>Ellipsis</td>\n",
       "      <td>Gel fijador ecológico sin fragancia para cabello</td>\n",
       "      <td>purenature</td>\n",
       "      <td>(€ 113,00 / 1 l)</td>\n",
       "      <td>€ 16.95</td>\n",
       "      <td>0.15l</td>\n",
       "      <td>https://www.purenature.es/media/image/c9/f8/ce...</td>\n",
       "      <td>https://www.purenature.es/gel-fijador-unique</td>\n",
       "      <td>Ellipsis</td>\n",
       "    </tr>\n",
       "    <tr>\n",
       "      <th>18</th>\n",
       "      <td>Ellipsis</td>\n",
       "      <td>Aceite de argán bio para cabello y uñas</td>\n",
       "      <td>purenature</td>\n",
       "      <td>(€ 406,67 / 1 l)</td>\n",
       "      <td>€ 12.20</td>\n",
       "      <td>0.03l</td>\n",
       "      <td>https://www.purenature.es/media/image/6a/e5/33...</td>\n",
       "      <td>https://www.purenature.es/aceite-argan-para-ca...</td>\n",
       "      <td>Ellipsis</td>\n",
       "    </tr>\n",
       "    <tr>\n",
       "      <th>19</th>\n",
       "      <td>Ellipsis</td>\n",
       "      <td>Gel fijador para cabello de Real Purity (muestra)</td>\n",
       "      <td>purenature</td>\n",
       "      <td>(€ 207,00 / 1 l)</td>\n",
       "      <td>€ 2.07</td>\n",
       "      <td>0.01l</td>\n",
       "      <td>https://www.purenature.es/media/image/c2/e7/02...</td>\n",
       "      <td>https://www.purenature.es/gel-fijador-para-cab...</td>\n",
       "      <td>Ellipsis</td>\n",
       "    </tr>\n",
       "    <tr>\n",
       "      <th>20</th>\n",
       "      <td>Ellipsis</td>\n",
       "      <td>Acondicionador suavizante para cabello Real Pu...</td>\n",
       "      <td>purenature</td>\n",
       "      <td>(€ 92,78 / 1 l)</td>\n",
       "      <td>€ 33.40</td>\n",
       "      <td>0.36l</td>\n",
       "      <td>https://www.purenature.es/media/image/b4/a7/75...</td>\n",
       "      <td>https://www.purenature.es/acondicionador-suavi...</td>\n",
       "      <td>Ellipsis</td>\n",
       "    </tr>\n",
       "    <tr>\n",
       "      <th>21</th>\n",
       "      <td>Ellipsis</td>\n",
       "      <td>Champu sólido ecológico ShampooBit</td>\n",
       "      <td>purenature</td>\n",
       "      <td>(€ 192,50 / 1 kg)</td>\n",
       "      <td>€ 11.55</td>\n",
       "      <td>0.06kg</td>\n",
       "      <td>https://www.purenature.es/media/image/d1/50/77...</td>\n",
       "      <td>https://www.purenature.es/champu-rosenrot</td>\n",
       "      <td>Ellipsis</td>\n",
       "    </tr>\n",
       "    <tr>\n",
       "      <th>22</th>\n",
       "      <td>Ellipsis</td>\n",
       "      <td>Crema de aceite de coco y karité bio Finigrana</td>\n",
       "      <td>purenature</td>\n",
       "      <td>(€ 136,70 / 1 l)</td>\n",
       "      <td>€ 13.67</td>\n",
       "      <td>0.1l</td>\n",
       "      <td>https://www.purenature.es/media/image/11/de/35...</td>\n",
       "      <td>https://www.purenature.es/crema-de-coco-y-kari...</td>\n",
       "      <td>Ellipsis</td>\n",
       "    </tr>\n",
       "    <tr>\n",
       "      <th>23</th>\n",
       "      <td>Ellipsis</td>\n",
       "      <td>Champú ecológico sin salicilatos</td>\n",
       "      <td>purenature</td>\n",
       "      <td>(€ 132,50 / 1 l)</td>\n",
       "      <td>€ 26.50</td>\n",
       "      <td>0.2l</td>\n",
       "      <td>https://www.purenature.es/media/image/40/52/c6...</td>\n",
       "      <td>https://www.purenature.es/champu-ecologico-hip...</td>\n",
       "      <td>Ellipsis</td>\n",
       "    </tr>\n",
       "    <tr>\n",
       "      <th>24</th>\n",
       "      <td>Ellipsis</td>\n",
       "      <td>Arcilla Ghassoul Logona</td>\n",
       "      <td>purenature</td>\n",
       "      <td>€ 22.20</td>\n",
       "      <td>€ 22.20</td>\n",
       "      <td>1kg</td>\n",
       "      <td>https://www.purenature.es/media/image/0f/d4/eb...</td>\n",
       "      <td>https://www.purenature.es/arcilla-ghassoul-logona</td>\n",
       "      <td>Ellipsis</td>\n",
       "    </tr>\n",
       "    <tr>\n",
       "      <th>25</th>\n",
       "      <td>Ellipsis</td>\n",
       "      <td>Gel de ducha y champú Neutral de Lavera (set d...</td>\n",
       "      <td>purenature</td>\n",
       "      <td>(€ 32,67 / 1 l)</td>\n",
       "      <td>€ 39.20</td>\n",
       "      <td>1.2l</td>\n",
       "      <td>https://www.purenature.es/media/image/03/65/6b...</td>\n",
       "      <td>https://www.purenature.es/gel-de-ducha-y-champ...</td>\n",
       "      <td>Ellipsis</td>\n",
       "    </tr>\n",
       "    <tr>\n",
       "      <th>26</th>\n",
       "      <td>Ellipsis</td>\n",
       "      <td>Acondicionador cabello teñido o dañado sin fra...</td>\n",
       "      <td>purenature</td>\n",
       "      <td>(€ 63,60 / 1 l)</td>\n",
       "      <td>€ 15.90</td>\n",
       "      <td>0.25l</td>\n",
       "      <td>https://www.purenature.es/media/image/d5/37/4f...</td>\n",
       "      <td>https://www.purenature.es/acondicionador-sin-f...</td>\n",
       "      <td>Ellipsis</td>\n",
       "    </tr>\n",
       "    <tr>\n",
       "      <th>27</th>\n",
       "      <td>Ellipsis</td>\n",
       "      <td>Loción de baño Baby Neutral sin perfume</td>\n",
       "      <td>purenature</td>\n",
       "      <td>(€ 29,00 / 1 l)</td>\n",
       "      <td>€ 5.80</td>\n",
       "      <td>0.2l</td>\n",
       "      <td>https://www.purenature.es/media/image/61/89/c5...</td>\n",
       "      <td>https://www.purenature.es/champu-y-gel-bano-ba...</td>\n",
       "      <td>Ellipsis</td>\n",
       "    </tr>\n",
       "    <tr>\n",
       "      <th>28</th>\n",
       "      <td>Ellipsis</td>\n",
       "      <td>Champú sólido ecológico Savon du Midi</td>\n",
       "      <td>purenature</td>\n",
       "      <td>(€ 111,77 / 1 kg)</td>\n",
       "      <td>€ 9.50</td>\n",
       "      <td>0.085kg</td>\n",
       "      <td>https://www.purenature.es/media/image/3e/56/45...</td>\n",
       "      <td>https://www.purenature.es/champu-solido-savon-...</td>\n",
       "      <td>Ellipsis</td>\n",
       "    </tr>\n",
       "    <tr>\n",
       "      <th>29</th>\n",
       "      <td>Ellipsis</td>\n",
       "      <td>Mascarilla capilar ecológica sin perfume</td>\n",
       "      <td>purenature</td>\n",
       "      <td>(€ 158,33 / 1 l)</td>\n",
       "      <td>€ 19.00</td>\n",
       "      <td>0.12l</td>\n",
       "      <td>https://www.purenature.es/media/image/b5/e0/1d...</td>\n",
       "      <td>https://www.purenature.es/mascarilla-capilar-m...</td>\n",
       "      <td>Ellipsis</td>\n",
       "    </tr>\n",
       "    <tr>\n",
       "      <th>30</th>\n",
       "      <td>Ellipsis</td>\n",
       "      <td>Champú ecológico solido sin sulfatos Ayluna</td>\n",
       "      <td>purenature</td>\n",
       "      <td>(€ 175,83 / 1 kg)</td>\n",
       "      <td>€ 10.55</td>\n",
       "      <td>0.06kg</td>\n",
       "      <td>https://www.purenature.es/media/image/63/e4/fb...</td>\n",
       "      <td>https://www.purenature.es/champu-sin-sulfatos-...</td>\n",
       "      <td>Ellipsis</td>\n",
       "    </tr>\n",
       "    <tr>\n",
       "      <th>31</th>\n",
       "      <td>Ellipsis</td>\n",
       "      <td>Balsamo ecológico para cabello</td>\n",
       "      <td>purenature</td>\n",
       "      <td>(€ 459,33 / 1 l)</td>\n",
       "      <td>€ 6.89</td>\n",
       "      <td>0.015l</td>\n",
       "      <td>https://www.purenature.es/media/image/58/a0/44...</td>\n",
       "      <td>https://www.purenature.es/balsamo-ecologico-ca...</td>\n",
       "      <td>Ellipsis</td>\n",
       "    </tr>\n",
       "    <tr>\n",
       "      <th>32</th>\n",
       "      <td>Ellipsis</td>\n",
       "      <td>Arcilla curativa Luvos para uso externo</td>\n",
       "      <td>purenature</td>\n",
       "      <td>(€ 15,35 / 1 kg)</td>\n",
       "      <td>€ 7.37</td>\n",
       "      <td>0.48kg</td>\n",
       "      <td>https://www.purenature.es/media/image/63/8f/0b...</td>\n",
       "      <td>https://www.purenature.es/arcilla-curativa-luv...</td>\n",
       "      <td>Ellipsis</td>\n",
       "    </tr>\n",
       "  </tbody>\n",
       "</table>\n",
       "</div>"
      ],
      "text/plain": [
       "    category                                       product_name        shop  \\\n",
       "0   Ellipsis                    Jabón de aceite de oliva griego  purenature   \n",
       "1   Ellipsis         Jabón de aceite de oliva griego (set de 6)  purenature   \n",
       "2   Ellipsis                      Champú No Perfume de Urtekram  purenature   \n",
       "3   Ellipsis                Laca bio extra fuerte sin fragancia  purenature   \n",
       "4   Ellipsis                            Jabón de coco ecológico  purenature   \n",
       "5   Ellipsis  Crema fijadora bio sin fragancia para cabello ...  purenature   \n",
       "6   Ellipsis  Acondicionador suavizante para cabello No Perfume  purenature   \n",
       "7   Ellipsis   Champú y gel de ducha con sal del Mar Muerto CMD  purenature   \n",
       "8   Ellipsis                     Champú y gel ducha Safe Choice  purenature   \n",
       "9   Ellipsis  Gel ducha y champú para niños sin perfume Urte...  purenature   \n",
       "10  Ellipsis                    Champú para niños sin fragancia  purenature   \n",
       "11  Ellipsis             Jabón de Aleppo ecológico para cabello  purenature   \n",
       "12  Ellipsis            Gel fijador para cabello de Real Purity  purenature   \n",
       "13  Ellipsis            Gel de ducha y champú Neutral de Lavera  purenature   \n",
       "14  Ellipsis                        Champú Sensitive de Eubiona  purenature   \n",
       "15  Ellipsis          Aceite de coco virgen ecológico Naturland  purenature   \n",
       "16  Ellipsis        Copos de jabón ecológico de aceite de oliva  purenature   \n",
       "17  Ellipsis   Gel fijador ecológico sin fragancia para cabello  purenature   \n",
       "18  Ellipsis            Aceite de argán bio para cabello y uñas  purenature   \n",
       "19  Ellipsis  Gel fijador para cabello de Real Purity (muestra)  purenature   \n",
       "20  Ellipsis  Acondicionador suavizante para cabello Real Pu...  purenature   \n",
       "21  Ellipsis                 Champu sólido ecológico ShampooBit  purenature   \n",
       "22  Ellipsis     Crema de aceite de coco y karité bio Finigrana  purenature   \n",
       "23  Ellipsis                   Champú ecológico sin salicilatos  purenature   \n",
       "24  Ellipsis                            Arcilla Ghassoul Logona  purenature   \n",
       "25  Ellipsis  Gel de ducha y champú Neutral de Lavera (set d...  purenature   \n",
       "26  Ellipsis  Acondicionador cabello teñido o dañado sin fra...  purenature   \n",
       "27  Ellipsis            Loción de baño Baby Neutral sin perfume  purenature   \n",
       "28  Ellipsis              Champú sólido ecológico Savon du Midi  purenature   \n",
       "29  Ellipsis           Mascarilla capilar ecológica sin perfume  purenature   \n",
       "30  Ellipsis        Champú ecológico solido sin sulfatos Ayluna  purenature   \n",
       "31  Ellipsis                     Balsamo ecológico para cabello  purenature   \n",
       "32  Ellipsis            Arcilla curativa Luvos para uso externo  purenature   \n",
       "\n",
       "     price_unitary_ml  product_price product_quantity  \\\n",
       "0    (€ 16,08 / 1 kg)         € 2.01          0.125kg   \n",
       "1    (€ 14,07 / 1 kg)        € 10.55           0.75kg   \n",
       "2     (€ 29,60 / 1 l)  desde\\n€ 7.40            0.25l   \n",
       "3    (€ 102,67 / 1 l)        € 15.40            0.15l   \n",
       "4    (€ 62,50 / 1 kg)         € 6.25            0.1kg   \n",
       "5    (€ 109,33 / 1 l)        € 16.40            0.15l   \n",
       "6     (€ 41,11 / 1 l)         € 7.40            0.18l   \n",
       "7     (€ 47,50 / 1 l)         € 9.50             0.2l   \n",
       "8     (€ 95,00 / 1 l)  desde\\n€ 9.50             0.1l   \n",
       "9     (€ 25,16 / 1 l)         € 6.29            0.25l   \n",
       "10    (€ 50,80 / 1 l)        € 12.70            0.25l   \n",
       "11   (€ 73,10 / 1 kg)         € 7.31            0.1kg   \n",
       "12   (€ 149,92 / 1 l)        € 17.99            0.12l   \n",
       "13    (€ 34,50 / 1 l)         € 6.90             0.2l   \n",
       "14    (€ 34,20 / 1 l)         € 6.84             0.2l   \n",
       "15            € 20.60        € 20.60               1l   \n",
       "16   (€ 29,60 / 1 kg)         € 7.40           0.25kg   \n",
       "17   (€ 113,00 / 1 l)        € 16.95            0.15l   \n",
       "18   (€ 406,67 / 1 l)        € 12.20            0.03l   \n",
       "19   (€ 207,00 / 1 l)         € 2.07            0.01l   \n",
       "20    (€ 92,78 / 1 l)        € 33.40            0.36l   \n",
       "21  (€ 192,50 / 1 kg)        € 11.55           0.06kg   \n",
       "22   (€ 136,70 / 1 l)        € 13.67             0.1l   \n",
       "23   (€ 132,50 / 1 l)        € 26.50             0.2l   \n",
       "24            € 22.20        € 22.20              1kg   \n",
       "25    (€ 32,67 / 1 l)        € 39.20             1.2l   \n",
       "26    (€ 63,60 / 1 l)        € 15.90            0.25l   \n",
       "27    (€ 29,00 / 1 l)         € 5.80             0.2l   \n",
       "28  (€ 111,77 / 1 kg)         € 9.50          0.085kg   \n",
       "29   (€ 158,33 / 1 l)        € 19.00            0.12l   \n",
       "30  (€ 175,83 / 1 kg)        € 10.55           0.06kg   \n",
       "31   (€ 459,33 / 1 l)         € 6.89           0.015l   \n",
       "32   (€ 15,35 / 1 kg)         € 7.37           0.48kg   \n",
       "\n",
       "                                              picture  \\\n",
       "0   https://www.purenature.es/media/image/ff/f0/79...   \n",
       "1   https://www.purenature.es/media/image/2a/ed/50...   \n",
       "2   https://www.purenature.es/media/image/cd/fa/13...   \n",
       "3   https://www.purenature.es/media/image/b7/39/25...   \n",
       "4   https://www.purenature.es/media/image/e1/96/18...   \n",
       "5   https://www.purenature.es/media/image/49/37/9d...   \n",
       "6   https://www.purenature.es/media/image/1f/6f/4f...   \n",
       "7   https://www.purenature.es/media/image/9f/72/e7...   \n",
       "8   https://www.purenature.es/media/image/0e/d0/54...   \n",
       "9   https://www.purenature.es/media/image/d1/86/ac...   \n",
       "10  https://www.purenature.es/media/image/60/e4/a8...   \n",
       "11  https://www.purenature.es/media/image/e3/19/09...   \n",
       "12  https://www.purenature.es/media/image/2d/d8/f5...   \n",
       "13  https://www.purenature.es/media/image/bc/f4/00...   \n",
       "14  https://www.purenature.es/media/image/5c/de/db...   \n",
       "15  https://www.purenature.es/media/image/38/84/81...   \n",
       "16  https://www.purenature.es/media/image/ef/0a/31...   \n",
       "17  https://www.purenature.es/media/image/c9/f8/ce...   \n",
       "18  https://www.purenature.es/media/image/6a/e5/33...   \n",
       "19  https://www.purenature.es/media/image/c2/e7/02...   \n",
       "20  https://www.purenature.es/media/image/b4/a7/75...   \n",
       "21  https://www.purenature.es/media/image/d1/50/77...   \n",
       "22  https://www.purenature.es/media/image/11/de/35...   \n",
       "23  https://www.purenature.es/media/image/40/52/c6...   \n",
       "24  https://www.purenature.es/media/image/0f/d4/eb...   \n",
       "25  https://www.purenature.es/media/image/03/65/6b...   \n",
       "26  https://www.purenature.es/media/image/d5/37/4f...   \n",
       "27  https://www.purenature.es/media/image/61/89/c5...   \n",
       "28  https://www.purenature.es/media/image/3e/56/45...   \n",
       "29  https://www.purenature.es/media/image/b5/e0/1d...   \n",
       "30  https://www.purenature.es/media/image/63/e4/fb...   \n",
       "31  https://www.purenature.es/media/image/58/a0/44...   \n",
       "32  https://www.purenature.es/media/image/63/8f/0b...   \n",
       "\n",
       "                                                 link        id  \n",
       "0   https://www.purenature.es/jabon-de-aceite-de-o...  Ellipsis  \n",
       "1   https://www.purenature.es/jabon-de-aceite-de-o...  Ellipsis  \n",
       "2   https://www.purenature.es/champu-no-perfume-de...  Ellipsis  \n",
       "3   https://www.purenature.es/laca-para-cabello-si...  Ellipsis  \n",
       "4   https://www.purenature.es/jabon-de-coco-ecolog...  Ellipsis  \n",
       "5   https://www.purenature.es/fijador-bio-crema-ca...  Ellipsis  \n",
       "6   https://www.purenature.es/acondicionador-suavi...  Ellipsis  \n",
       "7   https://www.purenature.es/champu-y-gel-de-duch...  Ellipsis  \n",
       "8   https://www.purenature.es/champu-y-gel-ducha-s...  Ellipsis  \n",
       "9   https://www.purenature.es/gel-ducha-y-champu-p...  Ellipsis  \n",
       "10  https://www.purenature.es/champu-para-ninos-un...  Ellipsis  \n",
       "11  https://www.purenature.es/jabon-aleppo-ecologi...  Ellipsis  \n",
       "12  https://www.purenature.es/gel-fijador-para-cab...  Ellipsis  \n",
       "13  https://www.purenature.es/gel-de-ducha-y-champ...  Ellipsis  \n",
       "14  https://www.purenature.es/champu-sensitive-de-...  Ellipsis  \n",
       "15  https://www.purenature.es/aceite-de-coco-virge...  Ellipsis  \n",
       "16    https://www.purenature.es/copos-jabon-eco-oliva  Ellipsis  \n",
       "17       https://www.purenature.es/gel-fijador-unique  Ellipsis  \n",
       "18  https://www.purenature.es/aceite-argan-para-ca...  Ellipsis  \n",
       "19  https://www.purenature.es/gel-fijador-para-cab...  Ellipsis  \n",
       "20  https://www.purenature.es/acondicionador-suavi...  Ellipsis  \n",
       "21          https://www.purenature.es/champu-rosenrot  Ellipsis  \n",
       "22  https://www.purenature.es/crema-de-coco-y-kari...  Ellipsis  \n",
       "23  https://www.purenature.es/champu-ecologico-hip...  Ellipsis  \n",
       "24  https://www.purenature.es/arcilla-ghassoul-logona  Ellipsis  \n",
       "25  https://www.purenature.es/gel-de-ducha-y-champ...  Ellipsis  \n",
       "26  https://www.purenature.es/acondicionador-sin-f...  Ellipsis  \n",
       "27  https://www.purenature.es/champu-y-gel-bano-ba...  Ellipsis  \n",
       "28  https://www.purenature.es/champu-solido-savon-...  Ellipsis  \n",
       "29  https://www.purenature.es/mascarilla-capilar-m...  Ellipsis  \n",
       "30  https://www.purenature.es/champu-sin-sulfatos-...  Ellipsis  \n",
       "31  https://www.purenature.es/balsamo-ecologico-ca...  Ellipsis  \n",
       "32  https://www.purenature.es/arcilla-curativa-luv...  Ellipsis  "
      ]
     },
     "execution_count": 284,
     "metadata": {},
     "output_type": "execute_result"
    }
   ],
   "source": [
    "import pandas as pd\n",
    "\n",
    "df_items = pd.DataFrame(items_list)\n",
    "\n",
    "df_items.to_csv('purenature.csv', index=False)\n",
    "\n",
    "df_items"
   ]
  },
  {
   "cell_type": "code",
   "execution_count": null,
   "id": "2ac3dab3-fdb1-4f1a-acd8-726154afbbf0",
   "metadata": {},
   "outputs": [],
   "source": []
  },
  {
   "cell_type": "code",
   "execution_count": 1,
   "id": "107396d3-c4b0-411a-b353-85469a507e95",
   "metadata": {},
   "outputs": [],
   "source": [
    "import pandas as pd"
   ]
  },
  {
   "cell_type": "code",
   "execution_count": 2,
   "id": "e2045ef0",
   "metadata": {},
   "outputs": [],
   "source": [
    "df = pd.read_html('https://www.purenature.es/jabon-de-coco-ecologico-sin-perfume')"
   ]
  },
  {
   "cell_type": "code",
   "execution_count": 6,
   "id": "0b608aff",
   "metadata": {},
   "outputs": [
    {
     "data": {
      "text/plain": [
       "'piel con impurezas, piel hombre, piel madura, piel mixta, piel normal, piel seca, piel sensible, todo tipo de piel, cabello con caspa, cabello dañado, cabello fino, cabello graso, cabello largo, cabello normal, cabello quebradizo, cabello rizado, cabello seco, cabello sin brillo, cabello teñido, Sí, limpieza, bebés y niños, hombre, mujer, unisex, no testado en animales, sin aceite de palma, sin aceite mineral, sin aceites esenciales, sin alcohol, sin alcohol bencílico, sin benzoatos, sin cera de abejas, sin colorantes artificiales, sin emulsionantes sintéticos, sin fragancia, sin hormonas, sin lactosa, sin lanolina, sin menta, sin microplástico, sin nanopartículas, sin parabenes, sin PEG, sin perfume, sin siliconas, sin soja, sin ácido cítrico, sin óxido de zinc, Vegano, olor ligero'"
      ]
     },
     "execution_count": 6,
     "metadata": {},
     "output_type": "execute_result"
    }
   ],
   "source": [
    "', '.join(df[0].Valor)"
   ]
  },
  {
   "cell_type": "code",
   "execution_count": null,
   "id": "f5116d37",
   "metadata": {},
   "outputs": [],
   "source": []
  }
 ],
 "metadata": {
  "kernelspec": {
   "display_name": "Python 3 (ipykernel)",
   "language": "python",
   "name": "python3"
  },
  "language_info": {
   "codemirror_mode": {
    "name": "ipython",
    "version": 3
   },
   "file_extension": ".py",
   "mimetype": "text/x-python",
   "name": "python",
   "nbconvert_exporter": "python",
   "pygments_lexer": "ipython3",
   "version": "3.11.0"
  }
 },
 "nbformat": 4,
 "nbformat_minor": 5
}
