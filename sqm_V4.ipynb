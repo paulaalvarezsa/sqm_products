{
 "cells": [
  {
   "cell_type": "code",
   "execution_count": 209,
   "metadata": {},
   "outputs": [],
   "source": [
    "import requests as req\n",
    "from bs4 import BeautifulSoup as bs"
   ]
  },
  {
   "cell_type": "code",
   "execution_count": 210,
   "metadata": {},
   "outputs": [],
   "source": [
    "res = req.get(url='https://www.amazon.es/hz/wishlist/ls/NDZ0XZV1BBUQ?ref_=wl_share')\n",
    "url='https://www.amazon.es/hz/wishlist/ls/NDZ0XZV1BBUQ?ref_=wl_share'"
   ]
  },
  {
   "cell_type": "code",
   "execution_count": 211,
   "metadata": {},
   "outputs": [],
   "source": [
    "from selenium import webdriver"
   ]
  },
  {
   "cell_type": "code",
   "execution_count": 212,
   "metadata": {},
   "outputs": [],
   "source": [
    "from webdriver_manager.chrome import ChromeDriverManager # sustituye al archivo"
   ]
  },
  {
   "cell_type": "code",
   "execution_count": 213,
   "metadata": {},
   "outputs": [],
   "source": [
    "PATH = ChromeDriverManager().install()     # instala el driver de chrome\n",
    "\n",
    "driver=webdriver.Chrome(PATH)       # abre una venta una de chrome\n",
    "\n",
    "driver.get(url)"
   ]
  },
  {
   "cell_type": "code",
   "execution_count": 214,
   "metadata": {},
   "outputs": [],
   "source": [
    "from selenium.webdriver.common.by import By # By es para buscar por tag, clase, id...\n",
    "\n",
    "import time\n",
    "\n",
    "import warnings\n",
    "warnings.filterwarnings('ignore')"
   ]
  },
  {
   "cell_type": "code",
   "execution_count": 215,
   "metadata": {},
   "outputs": [],
   "source": [
    "driver.find_element(By.XPATH, '//*[@id=\"sp-cc-accept\"]').click()  # rechaza cookies\n"
   ]
  },
  {
   "cell_type": "code",
   "execution_count": 216,
   "metadata": {},
   "outputs": [],
   "source": [
    "productos=driver.find_elements(By.CLASS_NAME, 'a-fixed-left-grid-inner')"
   ]
  },
  {
   "cell_type": "code",
   "execution_count": 217,
   "metadata": {},
   "outputs": [
    {
     "data": {
      "text/plain": [
       "'Naturtint Champu Seco Eco 20 grs'"
      ]
     },
     "execution_count": 217,
     "metadata": {},
     "output_type": "execute_result"
    }
   ],
   "source": [
    "productos[1].find_element(By.TAG_NAME, 'h2').text"
   ]
  },
  {
   "cell_type": "code",
   "execution_count": 218,
   "metadata": {},
   "outputs": [
    {
     "data": {
      "text/plain": [
       "'Champú ecológico sin fragancia – 8 fl oz'"
      ]
     },
     "execution_count": 218,
     "metadata": {},
     "output_type": "execute_result"
    }
   ],
   "source": [
    "productos[3].find_element(By.TAG_NAME, 'h2').text"
   ]
  },
  {
   "cell_type": "code",
   "execution_count": 219,
   "metadata": {},
   "outputs": [
    {
     "data": {
      "text/plain": [
       "'99% Natural CHAMPÚ DERMOPROTECTOR con ALOE VERA - SIN PERFUME - 250ml por POO FREE. Sin Sulfatos, Sin Parabenos, Sin Silicona. Concentrado. pH 5.5 para Piel Sensible y Atópica Refuerza el Microbioma.'"
      ]
     },
     "execution_count": 219,
     "metadata": {},
     "output_type": "execute_result"
    }
   ],
   "source": [
    "productos[5].find_element(By.TAG_NAME, 'h2').text"
   ]
  },
  {
   "cell_type": "code",
   "execution_count": 220,
   "metadata": {},
   "outputs": [
    {
     "data": {
      "text/plain": [
       "'99% Natural CHAMPÚ DERMOPROTECTOR - SIN PERFUME - 250ml de BEES of BRITAIN. Sin Sulfatos, Sin Parabenos. pH 5.5 Piel Sensible. Donamos el 5% de Ganancias Para Ayudar a Salvar Abejas y Polinizadores.'"
      ]
     },
     "execution_count": 220,
     "metadata": {},
     "output_type": "execute_result"
    }
   ],
   "source": [
    "productos[7].find_element(By.TAG_NAME, 'h2').text"
   ]
  },
  {
   "cell_type": "code",
   "execution_count": 221,
   "metadata": {},
   "outputs": [
    {
     "data": {
      "text/plain": [
       "'Champú sin perfume para el cuero cabelludo seco'"
      ]
     },
     "execution_count": 221,
     "metadata": {},
     "output_type": "execute_result"
    }
   ],
   "source": [
    "productos[19].find_element(By.TAG_NAME, 'h2').text # productos[19] es el numero de productos"
   ]
  },
  {
   "cell_type": "code",
   "execution_count": 222,
   "metadata": {},
   "outputs": [],
   "source": [
    "html=req.get(driver.current_url).text\n",
    "\n",
    "sopa=bs(html, 'html.parser')\n",
    "\n",
    "tabla = sopa.find('table')"
   ]
  },
  {
   "cell_type": "code",
   "execution_count": 223,
   "metadata": {},
   "outputs": [],
   "source": [
    "driver.execute_script('window.scrollTo(0, 4000);')  # 2000px de scroll\n",
    "\n",
    "time.sleep(2)"
   ]
  },
  {
   "cell_type": "code",
   "execution_count": 224,
   "metadata": {},
   "outputs": [],
   "source": [
    "productos=driver.find_elements(By.CLASS_NAME, 'a-fixed-left-grid-inner')"
   ]
  },
  {
   "cell_type": "code",
   "execution_count": 260,
   "metadata": {},
   "outputs": [
    {
     "name": "stdout",
     "output_type": "stream",
     "text": [
      "Nombre público del cliente\n",
      "Recordar\n",
      "Champu sin perfume\n",
      "con perfume pero tolerable. tienen poco\n",
      "Lista de deseos de paula\n",
      "regalos a terceros\n",
      "Más\n",
      "Champu sin perfume\n",
      "Filtros:\n",
      "No comprados\n",
      "Ordenar por:\n",
      "Predeterminada\n",
      "Prioridad (descendente)\n",
      "Precio (ascendente)\n",
      "Precio (descendente)\n",
      "Filtrar y Ordenar\n",
      "Naturtint Champu Seco Eco 20 grs\n",
      "46\n",
      "7,95€ (39,75 € / 100 g) Envío GRATIS en tu primer pedido elegible.\n",
      "2 de segunda mano y nuevo desde 7,95 €\n",
      "Artículo añadido el 10 de marzo de 2023\n",
      "Añadir a la cesta\n",
      "¿Has comprado este regalo en otro sitio?\n",
      "Champú ecológico sin fragancia – 8 fl oz\n",
      "341\n",
      "16,90€ (7,13 € / 100 ml) Envío GRATIS en tu primer pedido elegible.\n",
      "Tamaño : 226 g\n",
      "5 de segunda mano y nuevo desde 16,90 €\n",
      "Artículo añadido el 10 de marzo de 2023\n",
      "Añadir a la cesta\n",
      "¿Has comprado este regalo en otro sitio?\n",
      "99% Natural CHAMPÚ DERMOPROTECTOR con ALOE VERA - SIN PERFUME - 250ml por POO FREE. Sin Sulfatos, Sin Parabenos, Sin Silicona. Concentrado. pH 5.5 para Piel Sensible y Atópica Refuerza el Microbioma.\n",
      "11\n",
      "17,99€ (17,99 € / unidad) Envío GRATIS en tu primer pedido elegible.\n",
      "Artículo añadido el 10 de marzo de 2023\n",
      "Añadir a la cesta\n",
      "¿Has comprado este regalo en otro sitio?\n",
      "99% Natural CHAMPÚ DERMOPROTECTOR - SIN PERFUME - 250ml de BEES of BRITAIN. Sin Sulfatos, Sin Parabenos. pH 5.5 Piel Sensible. Donamos el 5% de Ganancias Para Ayudar a Salvar Abejas y Polinizadores.\n",
      "27\n",
      "17,99€ (17,99 € / unidad) Envío GRATIS en tu primer pedido elegible.\n",
      "Artículo añadido el 10 de marzo de 2023\n",
      "Añadir a la cesta\n",
      "¿Has comprado este regalo en otro sitio?\n",
      "The Soapy Goat Barra de champú de leche de cabra sin perfume NAkid en un plástico de corte ecológico de lata\n",
      "13,06€ (13,06 € / 100 g) + 2,99 € de envío\n",
      "Artículo añadido el 10 de marzo de 2023\n",
      "Añadir a la cesta\n",
      "¿Has comprado este regalo en otro sitio?\n",
      "Owl & Bee - Champú sólido - Todos los tipos de cabello - Sin fragancia añadida\n",
      "83\n",
      "4,00€ (6,90 € / 100 g) Envío GRATIS en tu primer pedido elegible.\n",
      "Precio reducido en un 37 % (costaba 6,32 € cuando se añadió a la Lista de deseos)\n",
      "2 de segunda mano y nuevo desde 4,00 €\n",
      "Artículo añadido el 10 de marzo de 2023\n",
      "Añadir a la cesta\n",
      "¿Has comprado este regalo en otro sitio?\n",
      "Champú base, 1 litros, orgánico, sin SLS, SLES, sulfatos o parabenos, con aloe vera.\n",
      "1.328\n",
      "15,99€ (1,60 € / 100 ml) Envío GRATIS en tu primer pedido elegible.\n",
      "Artículo añadido el 10 de marzo de 2023\n",
      "Añadir a la cesta\n",
      "¿Has comprado este regalo en otro sitio?\n",
      "99% Natural CHAMPÚ DERMOPROTECTOR - SIN PERFUME - 250ml de NATURE'S INTERVENTION. Sin Sulfatos, Sin Parabenos, Sin Silicona. Concentrado. pH 5.5 para Piel Sensible y Atópica Refuerza el Microbioma.\n",
      "9\n",
      "17,99€ (17,99 € / unidad) Envío GRATIS en tu primer pedido elegible.\n",
      "Artículo añadido el 10 de marzo de 2023\n",
      "Añadir a la cesta\n",
      "¿Has comprado este regalo en otro sitio?\n",
      "Champú /gel sin perfume Cosmo 1L Bio sin sulfatos ni conservantes\n",
      "1\n",
      "17,69€ (1,77 € / 100 ml) + 2,99 € de envío\n",
      "2 de segunda mano y nuevo desde 17,69 €\n",
      "Artículo añadido el 10 de marzo de 2023\n",
      "Añadir a la cesta\n",
      "¿Has comprado este regalo en otro sitio?\n",
      "Champú sin perfume para el cuero cabelludo seco\n",
      "133\n",
      "3,27€ (1,64 € / 100 ml) + 13,16 € de envío\n",
      "Artículo añadido el 10 de marzo de 2023\n",
      "Añadir a la cesta\n",
      "¿Has comprado este regalo en otro sitio?\n",
      "ISANA MED Champú cada día (Ultra Sensitiv), sin perfume, sin colorantes, sin silicona, pH neutro para la piel, 200 ml\n",
      "11,88€ (5,94 € / 100 ml) Envío GRATIS en tu primer pedido elegible.\n",
      "3 de segunda mano y nuevo desde 9,90 €\n",
      "Artículo añadido el 10 de marzo de 2023\n",
      "Añadir a la cesta\n",
      "¿Has comprado este regalo en otro sitio?\n",
      "Honest Champú y gel de baño sin perfume puramente sensible 295ml\n",
      "77\n",
      "7,95€ (2,69 € / 100 ml) Envío GRATIS en tu primer pedido elegible.\n",
      "Debido a la alta demanda, el producto no está disponible en este momento. Estamos trabajando comprometidamente para tenerlo de vuelta lo antes posible. Realiza tu pedido y te mandaremos un e-mail con la fecha de entrega estimada. Ofrecido por Amazon .\n",
      "3 de segunda mano y nuevo desde 7,95 €\n",
      "Artículo añadido el 10 de marzo de 2023\n",
      "Añadir a la cesta\n",
      "¿Has comprado este regalo en otro sitio?\n",
      "Gel Baño Sin Perfume 500 Ml de Urtekram\n",
      "12,95€ (2,59 € / 100 ml) + 3,95 € de envío\n",
      "Artículo añadido el 10 de marzo de 2023\n",
      "Añadir a la cesta\n",
      "¿Has comprado este regalo en otro sitio?\n",
      "Urtekram Champú Orgánico Sin Fragancia - Find Balance, vegano y natural, Sensible, 500 ml\n",
      "120\n",
      "14,56€ (2,91 € / 100 ml) Envío GRATIS en tu primer pedido elegible.\n",
      "Color : Sin Fragancia Tamaño : 500 ml (Paquete de 1)\n",
      "6 de segunda mano y nuevo desde 11,10 €\n",
      "Artículo añadido el 10 de marzo de 2023\n",
      "Añadir a la cesta\n",
      "¿Has comprado este regalo en otro sitio?\n",
      "Mushie Champú y Jabón para Bebés | Fabricada en Dinamarca | Sin Perfume y sin Crueldad para los Animales | Certificada por Cosmos Organic | 400 ml\n",
      "30\n",
      "21,50€ (53,75 € / l) Envío GRATIS en tu primer pedido elegible.\n",
      "3 de segunda mano y nuevo desde 20,36 €\n",
      "Artículo añadido el 10 de marzo de 2023\n",
      "Añadir a la cesta\n",
      "¿Has comprado este regalo en otro sitio?\n",
      "Fin de la lista\n",
      "Naturtint Champu Seco Eco 20 grs\n",
      "46\n",
      "7,95€ (39,75 € / 100 g) Envío GRATIS en tu primer pedido elegible.\n",
      "2 de segunda mano y nuevo desde 7,95 €\n",
      "Artículo añadido el 10 de marzo de 2023\n",
      "Añadir a la cesta\n",
      "¿Has comprado este regalo en otro sitio?\n",
      "\n",
      "Champú ecológico sin fragancia – 8 fl oz\n",
      "341\n",
      "16,90€ (7,13 € / 100 ml) Envío GRATIS en tu primer pedido elegible.\n",
      "Tamaño : 226 g\n",
      "5 de segunda mano y nuevo desde 16,90 €\n",
      "Artículo añadido el 10 de marzo de 2023\n",
      "Añadir a la cesta\n",
      "¿Has comprado este regalo en otro sitio?\n",
      "\n",
      "99% Natural CHAMPÚ DERMOPROTECTOR con ALOE VERA - SIN PERFUME - 250ml por POO FREE. Sin Sulfatos, Sin Parabenos, Sin Silicona. Concentrado. pH 5.5 para Piel Sensible y Atópica Refuerza el Microbioma.\n",
      "11\n",
      "17,99€ (17,99 € / unidad) Envío GRATIS en tu primer pedido elegible.\n",
      "Artículo añadido el 10 de marzo de 2023\n",
      "Añadir a la cesta\n",
      "¿Has comprado este regalo en otro sitio?\n",
      "\n",
      "99% Natural CHAMPÚ DERMOPROTECTOR - SIN PERFUME - 250ml de BEES of BRITAIN. Sin Sulfatos, Sin Parabenos. pH 5.5 Piel Sensible. Donamos el 5% de Ganancias Para Ayudar a Salvar Abejas y Polinizadores.\n",
      "27\n",
      "17,99€ (17,99 € / unidad) Envío GRATIS en tu primer pedido elegible.\n",
      "Artículo añadido el 10 de marzo de 2023\n",
      "Añadir a la cesta\n",
      "¿Has comprado este regalo en otro sitio?\n",
      "\n",
      "The Soapy Goat Barra de champú de leche de cabra sin perfume NAkid en un plástico de corte ecológico de lata\n",
      "13,06€ (13,06 € / 100 g) + 2,99 € de envío\n",
      "Artículo añadido el 10 de marzo de 2023\n",
      "Añadir a la cesta\n",
      "¿Has comprado este regalo en otro sitio?\n",
      "\n",
      "Owl & Bee - Champú sólido - Todos los tipos de cabello - Sin fragancia añadida\n",
      "83\n",
      "4,00€ (6,90 € / 100 g) Envío GRATIS en tu primer pedido elegible.\n",
      "Precio reducido en un 37 % (costaba 6,32 € cuando se añadió a la Lista de deseos)\n",
      "2 de segunda mano y nuevo desde 4,00 €\n",
      "Artículo añadido el 10 de marzo de 2023\n",
      "Añadir a la cesta\n",
      "¿Has comprado este regalo en otro sitio?\n",
      "\n",
      "Champú base, 1 litros, orgánico, sin SLS, SLES, sulfatos o parabenos, con aloe vera.\n",
      "1.328\n",
      "15,99€ (1,60 € / 100 ml) Envío GRATIS en tu primer pedido elegible.\n",
      "Artículo añadido el 10 de marzo de 2023\n",
      "Añadir a la cesta\n",
      "¿Has comprado este regalo en otro sitio?\n",
      "\n",
      "99% Natural CHAMPÚ DERMOPROTECTOR - SIN PERFUME - 250ml de NATURE'S INTERVENTION. Sin Sulfatos, Sin Parabenos, Sin Silicona. Concentrado. pH 5.5 para Piel Sensible y Atópica Refuerza el Microbioma.\n",
      "9\n",
      "17,99€ (17,99 € / unidad) Envío GRATIS en tu primer pedido elegible.\n",
      "Artículo añadido el 10 de marzo de 2023\n",
      "Añadir a la cesta\n",
      "¿Has comprado este regalo en otro sitio?\n",
      "\n",
      "Champú /gel sin perfume Cosmo 1L Bio sin sulfatos ni conservantes\n",
      "1\n",
      "17,69€ (1,77 € / 100 ml) + 2,99 € de envío\n",
      "2 de segunda mano y nuevo desde 17,69 €\n",
      "Artículo añadido el 10 de marzo de 2023\n",
      "Añadir a la cesta\n",
      "¿Has comprado este regalo en otro sitio?\n",
      "\n",
      "Champú sin perfume para el cuero cabelludo seco\n",
      "133\n",
      "3,27€ (1,64 € / 100 ml) + 13,16 € de envío\n",
      "Artículo añadido el 10 de marzo de 2023\n",
      "Añadir a la cesta\n",
      "¿Has comprado este regalo en otro sitio?\n",
      "\n",
      "ISANA MED Champú cada día (Ultra Sensitiv), sin perfume, sin colorantes, sin silicona, pH neutro para la piel, 200 ml\n",
      "11,88€ (5,94 € / 100 ml) Envío GRATIS en tu primer pedido elegible.\n",
      "3 de segunda mano y nuevo desde 9,90 €\n",
      "Artículo añadido el 10 de marzo de 2023\n",
      "Añadir a la cesta\n",
      "¿Has comprado este regalo en otro sitio?\n",
      "\n",
      "Honest Champú y gel de baño sin perfume puramente sensible 295ml\n",
      "77\n",
      "7,95€ (2,69 € / 100 ml) Envío GRATIS en tu primer pedido elegible.\n",
      "Debido a la alta demanda, el producto no está disponible en este momento. Estamos trabajando comprometidamente para tenerlo de vuelta lo antes posible. Realiza tu pedido y te mandaremos un e-mail con la fecha de entrega estimada. Ofrecido por Amazon .\n",
      "3 de segunda mano y nuevo desde 7,95 €\n",
      "Artículo añadido el 10 de marzo de 2023\n",
      "Añadir a la cesta\n",
      "¿Has comprado este regalo en otro sitio?\n",
      "\n",
      "Gel Baño Sin Perfume 500 Ml de Urtekram\n",
      "12,95€ (2,59 € / 100 ml) + 3,95 € de envío\n",
      "Artículo añadido el 10 de marzo de 2023\n",
      "Añadir a la cesta\n",
      "¿Has comprado este regalo en otro sitio?\n",
      "\n",
      "Urtekram Champú Orgánico Sin Fragancia - Find Balance, vegano y natural, Sensible, 500 ml\n",
      "120\n",
      "14,56€ (2,91 € / 100 ml) Envío GRATIS en tu primer pedido elegible.\n",
      "Color : Sin Fragancia Tamaño : 500 ml (Paquete de 1)\n",
      "6 de segunda mano y nuevo desde 11,10 €\n",
      "Artículo añadido el 10 de marzo de 2023\n",
      "Añadir a la cesta\n",
      "¿Has comprado este regalo en otro sitio?\n",
      "\n",
      "Mushie Champú y Jabón para Bebés | Fabricada en Dinamarca | Sin Perfume y sin Crueldad para los Animales | Certificada por Cosmos Organic | 400 ml\n",
      "30\n",
      "21,50€ (53,75 € / l) Envío GRATIS en tu primer pedido elegible.\n",
      "3 de segunda mano y nuevo desde 20,36 €\n",
      "Artículo añadido el 10 de marzo de 2023\n",
      "Añadir a la cesta\n",
      "¿Has comprado este regalo en otro sitio?\n",
      "\n"
     ]
    }
   ],
   "source": [
    "for i in productos:\n",
    "   print(i.text)"
   ]
  },
  {
   "cell_type": "code",
   "execution_count": 263,
   "metadata": {},
   "outputs": [],
   "source": [
    "soup = bs(res.text)"
   ]
  },
  {
   "cell_type": "code",
   "execution_count": 265,
   "metadata": {},
   "outputs": [
    {
     "ename": "AttributeError",
     "evalue": "'NoneType' object has no attribute 'find_all'",
     "output_type": "error",
     "traceback": [
      "\u001b[1;31m---------------------------------------------------------------------------\u001b[0m",
      "\u001b[1;31mAttributeError\u001b[0m                            Traceback (most recent call last)",
      "\u001b[1;32m~\\AppData\\Local\\Temp\\ipykernel_9056\\643580994.py\u001b[0m in \u001b[0;36m<module>\u001b[1;34m\u001b[0m\n\u001b[0;32m      3\u001b[0m \u001b[0mtable_body\u001b[0m \u001b[1;33m=\u001b[0m \u001b[0mtable\u001b[0m\u001b[1;33m.\u001b[0m\u001b[0mfind\u001b[0m\u001b[1;33m(\u001b[0m\u001b[1;34m'tbody'\u001b[0m\u001b[1;33m)\u001b[0m\u001b[1;33m\u001b[0m\u001b[1;33m\u001b[0m\u001b[0m\n\u001b[0;32m      4\u001b[0m \u001b[1;33m\u001b[0m\u001b[0m\n\u001b[1;32m----> 5\u001b[1;33m \u001b[0mrows\u001b[0m \u001b[1;33m=\u001b[0m \u001b[0mtable_body\u001b[0m\u001b[1;33m.\u001b[0m\u001b[0mfind_all\u001b[0m\u001b[1;33m(\u001b[0m\u001b[1;34m'tr'\u001b[0m\u001b[1;33m)\u001b[0m\u001b[1;33m\u001b[0m\u001b[1;33m\u001b[0m\u001b[0m\n\u001b[0m\u001b[0;32m      6\u001b[0m \u001b[1;32mfor\u001b[0m \u001b[0mrow\u001b[0m \u001b[1;32min\u001b[0m \u001b[0mrows\u001b[0m\u001b[1;33m:\u001b[0m\u001b[1;33m\u001b[0m\u001b[1;33m\u001b[0m\u001b[0m\n\u001b[0;32m      7\u001b[0m     \u001b[0mcols\u001b[0m \u001b[1;33m=\u001b[0m \u001b[0mrow\u001b[0m\u001b[1;33m.\u001b[0m\u001b[0mfind_all\u001b[0m\u001b[1;33m(\u001b[0m\u001b[1;34m'td'\u001b[0m\u001b[1;33m)\u001b[0m\u001b[1;33m\u001b[0m\u001b[1;33m\u001b[0m\u001b[0m\n",
      "\u001b[1;31mAttributeError\u001b[0m: 'NoneType' object has no attribute 'find_all'"
     ]
    }
   ],
   "source": [
    "data = []\n",
    "table = soup.find('table')\n",
    "table_body = table.find('tbody')\n",
    "\n",
    "rows = table_body.find_all('tr')\n",
    "for row in rows:\n",
    "    cols = row.find_all('td')\n",
    "    cols = [ele.text.strip() for ele in cols]\n",
    "    data.append([ele for ele in cols if ele]) # Get rid of empty values"
   ]
  },
  {
   "cell_type": "code",
   "execution_count": 225,
   "metadata": {},
   "outputs": [
    {
     "data": {
      "text/plain": [
       "'Naturtint Champu Seco Eco 20 grs'"
      ]
     },
     "execution_count": 225,
     "metadata": {},
     "output_type": "execute_result"
    }
   ],
   "source": [
    "productos[1].find_element(By.TAG_NAME, 'h2').text"
   ]
  },
  {
   "cell_type": "code",
   "execution_count": 243,
   "metadata": {},
   "outputs": [],
   "source": [
    "todo= productos[0].find_element(By.TAG_NAME, 'h2').text # productos[29] es el numero de productos"
   ]
  },
  {
   "cell_type": "code",
   "execution_count": 239,
   "metadata": {},
   "outputs": [
    {
     "data": {
      "text/plain": [
       "'99% Natural CHAMPÚ DERMOPROTECTOR con ALOE VERA - SIN PERFUME - 250ml por POO FREE. Sin Sulfatos, Sin Parabenos, Sin Silicona. Concentrado. pH 5.5 para Piel Sensible y Atópica Refuerza el Microbioma.'"
      ]
     },
     "execution_count": 239,
     "metadata": {},
     "output_type": "execute_result"
    }
   ],
   "source": []
  },
  {
   "cell_type": "code",
   "execution_count": 227,
   "metadata": {},
   "outputs": [],
   "source": [
    "# He solucionado el scroll, el problema es que había puesto pocos pixels \n",
    "\n"
   ]
  }
 ],
 "metadata": {
  "kernelspec": {
   "display_name": "base",
   "language": "python",
   "name": "python3"
  },
  "language_info": {
   "codemirror_mode": {
    "name": "ipython",
    "version": 3
   },
   "file_extension": ".py",
   "mimetype": "text/x-python",
   "name": "python",
   "nbconvert_exporter": "python",
   "pygments_lexer": "ipython3",
   "version": "3.9.13"
  },
  "orig_nbformat": 4
 },
 "nbformat": 4,
 "nbformat_minor": 2
}
